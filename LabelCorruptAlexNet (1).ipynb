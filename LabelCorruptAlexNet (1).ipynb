{
  "cells": [
    {
      "cell_type": "code",
      "execution_count": null,
      "id": "8908e30f-c594-47e5-8c92-e2e74bbaf2ec",
      "metadata": {
        "id": "8908e30f-c594-47e5-8c92-e2e74bbaf2ec"
      },
      "outputs": [],
      "source": [
        "import numpy as np\n",
        "import torch\n",
        "import torch.nn as nn\n",
        "import torch.nn.functional as F\n",
        "import torchvision\n",
        "import torchvision.transforms as transforms\n",
        "import matplotlib.pyplot as plt\n",
        "from torch.utils.data.sampler import SubsetRandomSampler\n",
        "from torchvision.datasets import CIFAR10\n",
        "from torch.utils.data import DataLoader\n",
        "import torch.optim as optim\n",
        "from sklearn.metrics import accuracy_score, confusion_matrix, classification_report, f1_score, precision_score, recall_score\n",
        "import pandas as pd\n",
        "import torch.nn.init as init\n",
        "from torch.optim.lr_scheduler import StepLR\n",
        "import os"
      ]
    },
    {
      "cell_type": "markdown",
      "id": "441f64b1-69f8-4b80-aef3-7591ddba0e4c",
      "metadata": {
        "id": "441f64b1-69f8-4b80-aef3-7591ddba0e4c"
      },
      "source": [
        "# Declarations for later obtaining the data"
      ]
    },
    {
      "cell_type": "code",
      "execution_count": null,
      "id": "b84959cb-db39-4444-ac14-ccdbe37f6df1",
      "metadata": {
        "id": "b84959cb-db39-4444-ac14-ccdbe37f6df1"
      },
      "outputs": [],
      "source": [
        "batch_size = 32\n",
        "\n",
        "\"\"\"\n",
        "Create Class for Label corruption\n",
        "\"\"\"\n",
        "#retrieving the correct data from pytorch\n",
        "#cifar10_dataset = torchvision.datasets.CIFAR10(root='./data', train=True, download=True, transform=transform)\n",
        "\n",
        "\"\"\"\n",
        "Corrupted Data set\n",
        "Code adapted from: ......\n",
        "\"\"\"\n",
        "#Create new class inheriting from CIFAR10\n",
        "class CIFAR10Corrupted(torchvision.datasets.CIFAR10):\n",
        "    # Add additional initialization parameter specifiying degree of corruption in the labels\n",
        "    def __init__(self, corrupt_prob, num_classes=10, **kwargs):\n",
        "        super().__init__(**kwargs)\n",
        "        if corrupt_prob > 0:\n",
        "            self.n_classes = num_classes\n",
        "            self.corrupt_labels(corrupt_prob)\n",
        "\n",
        "    # function that chooses labels at random with a certain probability\n",
        "    def corrupt_labels(self, corrupt_prob):\n",
        "        # Chooses for each label a random number in [0,1]. If this number <= corrupt probab - we choose a new random label for it.\n",
        "        labels = np.array(self.targets) # convert into array\n",
        "        np.random.seed(42)\n",
        "        mask = np.random.rand(len(labels)) <= corrupt_prob #get random candidates to create random lables\n",
        "        rnd_labels = np.random.choice(self.n_classes, mask.sum()) #creates new lables\n",
        "        labels[mask] = rnd_labels # fixes new labels in the right spot\n",
        "        labels = [int(x) for x in labels] #convert back to integer\n",
        "        self.targets = labels # change target of the CIFAR dataset\n",
        "\n",
        "#Hardcode classes\n",
        "classes = ('plane', 'car', 'bird', 'cat',\n",
        "           'deer', 'dog', 'frog', 'horse', 'ship', 'truck')"
      ]
    },
    {
      "cell_type": "code",
      "execution_count": null,
      "id": "b3738528-0727-440c-830c-32da52d9dd89",
      "metadata": {
        "id": "b3738528-0727-440c-830c-32da52d9dd89"
      },
      "outputs": [],
      "source": [
        "# function that obtains the data loaders for the CIFAR train & test datasets.\n",
        "# if specified other than 0, the labels will be corrupted with corrupt_prob. Otherwise the data is unchanged\n",
        "def get_cifar_dataloaders_corrupted(corrupt_prob=0, batch_size=batch_size, axis_size = 224):\n",
        "    transform = transforms.Compose(\n",
        "        [transforms.Resize((axis_size, axis_size)),\n",
        "         transforms.ToTensor(),\n",
        "        transforms.Normalize((0.5, 0.5, 0.5), (0.5, 0.5, 0.5))])\n",
        "\n",
        "    trainset = CIFAR10Corrupted(root='./CIFAR', train=True, download=True, transform=transform, corrupt_prob=corrupt_prob)\n",
        "    train_loader = DataLoader(trainset, batch_size = batch_size, shuffle = True)\n",
        "    testset = CIFAR10Corrupted(root='./CIFAR', train=False, download=True, transform=transform, corrupt_prob=corrupt_prob)\n",
        "    test_loader = DataLoader(testset, batch_size=batch_size, shuffle=False)\n",
        "\n",
        "    return train_loader, test_loader"
      ]
    },
    {
      "cell_type": "markdown",
      "id": "c615cd62-157b-4049-8f3f-a7f9e7519488",
      "metadata": {
        "id": "c615cd62-157b-4049-8f3f-a7f9e7519488"
      },
      "source": [
        "# Functions for training the model"
      ]
    },
    {
      "cell_type": "code",
      "execution_count": null,
      "id": "34aa25fb-249d-4c2a-b5d5-5f365b24cb0b",
      "metadata": {
        "id": "34aa25fb-249d-4c2a-b5d5-5f365b24cb0b"
      },
      "outputs": [],
      "source": [
        "\"\"\"\n",
        "Function for training one epoch\n",
        "\"\"\"\n",
        "\n",
        "def train_one_epoch(train_loader, model, device, criterion, optimizer, lr_scheduler):\n",
        "    running_loss = 0.0\n",
        "    num_correct = 0\n",
        "    total = 0\n",
        "    batch_losses = []\n",
        "    model.train()\n",
        "    #iterate over batches of training data perform a batch-SGD step each\n",
        "    for batch_num, data in enumerate(train_loader):\n",
        "        inputs, labels = data\n",
        "        inputs = inputs.to(device)\n",
        "        labels = labels.to(device)\n",
        "        outputs = model(inputs)\n",
        "        loss = criterion(outputs, labels)\n",
        "\n",
        "        #empty gradient\n",
        "        optimizer.zero_grad()\n",
        "        #compute backgroup gradients\n",
        "        loss.backward()\n",
        "        #perform update wrt to the gradient of the full batch (avg.)\n",
        "        optimizer.step()\n",
        "        #update loss\n",
        "        running_loss += loss.item()*len(inputs)\n",
        "        if batch_num%200==0: #after every 200 minibatches the code prints the loss at this point\n",
        "            print(\"Batch {} Loss: {}\".format(batch_num, loss.item()))\n",
        "        preds = torch.argmax(outputs, dim=1)\n",
        "        num_correct += (preds==labels).sum().item()\n",
        "        total += labels.size(0)\n",
        "        batch_losses.append(loss.item())\n",
        "    epoch_loss = running_loss/len(train_loader.sampler) #calculates the average loss in the epoch\n",
        "    epoch_acc = num_correct/total #calculates accuracy in the epoch\n",
        "    lr_scheduler.step() #update learning rate after full epoch\n",
        "    return epoch_loss, epoch_acc, batch_losses\n",
        "\n",
        "def full_model_train(model, num_epochs, train_loader, test_loader, device, \\\n",
        "                  criterion, optimizer, lr_scheduler, model_name):\n",
        "    train_losses, valid_losses = [], []\n",
        "    train_batch_losses, valid_batch_losses, = [], []\n",
        "    train_accs, valid_accs = [], []\n",
        "    highest_acc = 1e-10\n",
        "\n",
        "    for epoch in range(num_epochs):\n",
        "        #model.train()\n",
        "        train_loss, train_acc, train_batch_losses_epoch = train_one_epoch(train_loader, model, device, criterion, optimizer, lr_scheduler)\n",
        "        #model.eval()\n",
        "        valid_loss, valid_acc, valid_batch_losses_epoch = run_validation_one_epoch(test_loader, model, device, criterion)\n",
        "\n",
        "        print(\"[Epoch {}] Train Loss: {} Vaidation Loss: {} Train Acc: {} Validation Acc: {}\".format(\\\n",
        "              epoch, train_loss, valid_loss, train_acc, valid_acc))\n",
        "\n",
        "        train_losses.append(train_loss)\n",
        "        valid_losses.append(valid_loss)\n",
        "        train_batch_losses+=train_batch_losses_epoch\n",
        "        valid_batch_losses+=valid_batch_losses_epoch\n",
        "        train_accs.append(train_acc)\n",
        "        valid_accs.append(valid_acc)\n",
        "\n",
        "        if valid_acc > highest_acc:\n",
        "            torch.save(model.state_dict(), \"{}.pth\".format(model_name))\n",
        "            highest_acc = valid_acc\n",
        "    print('Finished Training')\n",
        "    return train_losses, valid_losses, train_batch_losses, valid_batch_losses, train_accs, valid_accs\n"
      ]
    },
    {
      "cell_type": "markdown",
      "id": "1799c59d-3ba0-4626-9f3b-1c178c27d763",
      "metadata": {
        "id": "1799c59d-3ba0-4626-9f3b-1c178c27d763"
      },
      "source": [
        "# Functions for evaluating the model"
      ]
    },
    {
      "cell_type": "code",
      "execution_count": null,
      "id": "fa7a868e-e9b4-4ff1-9ca1-b647ba347b01",
      "metadata": {
        "id": "fa7a868e-e9b4-4ff1-9ca1-b647ba347b01"
      },
      "outputs": [],
      "source": [
        "# Evaluation at runtime - important: This is only used for illustration. Losses are not used for updating\n",
        "def run_validation_one_epoch(test_loader, model, device, criterion):\n",
        "    running_loss = 0.0\n",
        "    num_correct = 0\n",
        "    total = 0\n",
        "    batch_losses = []\n",
        "    model.eval()\n",
        "    for batch_num, data in enumerate(test_loader):\n",
        "        inputs, labels = data\n",
        "        inputs = inputs.to(device)\n",
        "        labels = labels.to(device)\n",
        "        outputs = model(inputs)\n",
        "        loss = criterion(outputs, labels)\n",
        "        running_loss += loss.item()*len(inputs)\n",
        "        preds = torch.argmax(outputs, dim=1)\n",
        "        num_correct += (preds==labels).sum().item()\n",
        "        total += labels.size(0)\n",
        "        batch_losses.append(loss.item())\n",
        "    epoch_loss = running_loss/len(test_loader.sampler)\n",
        "    epoch_acc = num_correct/total\n",
        "    return epoch_loss, epoch_acc, batch_losses\n",
        "\n",
        "#plot losses\n",
        "def plot_losses(training_loss_arr, validation_loss_arr, training_acc_arr, validation_acc_arr, \\\n",
        "                title):\n",
        "    num_epochs = len(training_loss_arr)\n",
        "    plt.figure(figsize=(16,6))\n",
        "    plt.subplot(1,2,1)\n",
        "    ax = plt.gca()\n",
        "    ax.plot(range(num_epochs), training_loss_arr, '-bo', label=\"Training Loss\")\n",
        "    ax.plot(range(num_epochs), validation_loss_arr, '-ro', label=\"Validation Loss\")\n",
        "    ax.legend()\n",
        "    ax.set_xlabel(\"Epochs\")\n",
        "    ax.set_ylabel(\"Loss\")\n",
        "    ax.set_title(title)\n",
        "    plt.subplot(1,2,2)\n",
        "    ax = plt.gca()\n",
        "    ax.plot(range(num_epochs), training_acc_arr, '-bo', label=\"Training Acc\")\n",
        "    ax.plot(range(num_epochs), validation_acc_arr, '-ro', label=\"Validation Acc\")\n",
        "    ax.legend()\n",
        "    ax.set_xlabel(\"Epochs\")\n",
        "    ax.set_ylabel(\"Accuracy\")\n",
        "    ax.set_title(title)\n",
        "\n",
        "#Calculate accuracy of a trained model\n",
        "def accuracy_model(model, test_loader):\n",
        "    correct = 0\n",
        "    total = 0\n",
        "    model.eval()\n",
        "\n",
        "    with torch.no_grad():\n",
        "        for images, labels in test_loader:\n",
        "            # Assuming GPU availability, move images and labels to GPU\n",
        "            images, labels = images.to(device), labels.to(device)\n",
        "\n",
        "            # Forward pass\n",
        "            outputs = model(images)\n",
        "\n",
        "            # Get predictions\n",
        "            predicted = torch.argmax(outputs, dim=1)\n",
        "\n",
        "            # Update counts\n",
        "            total += labels.size(0)\n",
        "            correct += (predicted == labels).sum().item()\n",
        "\n",
        "    accuracy = correct / total\n",
        "    return accuracy"
      ]
    },
    {
      "cell_type": "markdown",
      "id": "8396eb54-6d60-4690-b44c-7eee8c2ad523",
      "metadata": {
        "id": "8396eb54-6d60-4690-b44c-7eee8c2ad523"
      },
      "source": [
        "# Create Alexnet Module\n",
        "It consists of:\n",
        "- Convolutional Layers (features)\n",
        "- ReLU Activation\n",
        "- Max-Pooling Layers\n",
        "- (Local Response Normalization (LRN)) not used a lot in practice -> we left it out\n",
        "- Convolutional Layers\n",
        "- ReLU Activation\n",
        "- Max-Pooling Layers\n",
        "- Convolutional Layers\n",
        "- ReLU Activation\n",
        "- Convolutional Layers\n",
        "- ReLU Activation\n",
        "- Convolutional Layers\n",
        "- ReLU Activation\n",
        "- Max-Pooling Layers\n",
        "- Adaptive Average Pooling (avgpool)\n",
        "- Fully Connected Layers (classifier)\n",
        "\n",
        "Reminder: What is a convolution operation\n",
        "The operation can be computed as the element-wise multiplication of the input region and the filter, followed by a summation:\n",
        "\n",
        "O[i,j] = Σx Σy (I[i+x,j+y] * K[x, y])"
      ]
    },
    {
      "cell_type": "code",
      "execution_count": null,
      "id": "c4fc30c0-5be1-4938-99a7-e9c592570145",
      "metadata": {
        "id": "c4fc30c0-5be1-4938-99a7-e9c592570145"
      },
      "outputs": [],
      "source": [
        "class AlexNet(nn.Module): #inherits from NN module\n",
        "    def __init__(self, num_classes = len(classes), batch_norm = True, dropout_rate=0.5):\n",
        "        super(AlexNet, self).__init__() #initialize with all parameters of parent class nn.\n",
        "        \"\"\"\n",
        "        Start with Convolutional layers. Interpretation: Creates representations of the images like an encoder.\n",
        "        Disclaimer: This is not the exact Alexnet as published by Krizhevsky et al. However the architecture. We made our choice\n",
        "        \"\"\"\n",
        "        self.features = nn.Sequential(\n",
        "            # note convolutional layers are specially invariant, they only care about the channels\n",
        "            # colored image -> input channel 3 (rbg), 64 conv. filters 11x11 pixels applied, padding = empty pixels on the edges\n",
        "            # Batch normalization only used after convolutional layers to improve convergence\n",
        "            nn.Conv2d(3, 64, kernel_size=11, stride=4, padding=2),\n",
        "            nn.ReLU(inplace=True),\n",
        "            nn.MaxPool2d(kernel_size=3, stride=2),\n",
        "            nn.BatchNorm2d(64) if batch_norm else nn.Sequential(),\n",
        "\n",
        "\n",
        "            nn.Conv2d(64, 192, kernel_size=5, padding=2),\n",
        "            nn.ReLU(inplace=True),\n",
        "            nn.MaxPool2d(kernel_size=3, stride=2),\n",
        "            nn.BatchNorm2d(192) if batch_norm else nn.Sequential(),\n",
        "\n",
        "            nn.Conv2d(192, 384, kernel_size=3, padding=1),\n",
        "            nn.ReLU(inplace=True),\n",
        "            nn.BatchNorm2d(384) if batch_norm else nn.Sequential(),\n",
        "\n",
        "            nn.Conv2d(384, 256, kernel_size=3, padding=1),\n",
        "            nn.ReLU(inplace=True),\n",
        "            nn.BatchNorm2d(256) if batch_norm else nn.Sequential(),\n",
        "\n",
        "            nn.Conv2d(256, 256, kernel_size=3, padding=1),\n",
        "            nn.ReLU(inplace=True),\n",
        "            nn.MaxPool2d(kernel_size=3, stride=2),\n",
        "            nn.BatchNorm2d(256) if batch_norm else nn.Sequential()\n",
        "        )\n",
        "        \"\"\"\n",
        "        Create avg. pooling layer: divides the input feature map into a grid with the specified target size (in this case, 6x6)\n",
        "        Computes the average value in each grid cell. will produce output  with a fixed size of 6x6.\n",
        "        \"\"\"\n",
        "        self.avgpool = nn.AdaptiveAvgPool2d((6, 6))\n",
        "        \"\"\"\n",
        "        Fully connected Layers. -> Interpretation: Using the created features of the Conv Layers to predict the labels\n",
        "        \"\"\"\n",
        "        self.classifier = nn.Sequential(\n",
        "            nn.Dropout(p=dropout_rate), #default dropout rate of 50% - applied to linear layer afterwards\n",
        "            #flattens input of 256 channels of 6x6 frames to 256 * 6 * 6\n",
        "            #4096 number of output units as in the AlexNet paper\n",
        "            nn.Linear(256 * 6 * 6, 4096),\n",
        "            nn.ReLU(inplace=True),\n",
        "            nn.Dropout(p=dropout_rate),\n",
        "            nn.Linear(4096, 4096),\n",
        "            nn.ReLU(inplace=True),\n",
        "            nn.Linear(4096, num_classes)\n",
        "        )\n",
        "\n",
        "        # Initialize weights using Xavier/Glorot initialization for linear layers\n",
        "        # No initialization needed for convolutional layers since it uses He initialization by default\n",
        "        for m in self.classifier.modules():\n",
        "            if isinstance(m, nn.Linear):\n",
        "                init.xavier_uniform_(m.weight)\n",
        "                if m.bias is not None:\n",
        "                    init.constant_(m.bias, 0)\n",
        "\n",
        "    def forward(self, x):\n",
        "        x = self.features(x)\n",
        "        x = self.avgpool(x)\n",
        "        x = torch.flatten(x, 1)\n",
        "        x = self.classifier(x)\n",
        "        return x"
      ]
    },
    {
      "cell_type": "markdown",
      "source": [
        "# Creating the MLP module"
      ],
      "metadata": {
        "id": "05ajsiG93sw2"
      },
      "id": "05ajsiG93sw2"
    },
    {
      "cell_type": "code",
      "source": [
        "class MLP(nn.Module):\n",
        "  def __init__(self):\n",
        "    super().__init__()\n",
        "    self.fc1 = nn.Linear(3*32*32,512)\n",
        "    self.fc2 = nn.Linear(512,10)\n",
        "  def forward(self, x):\n",
        "    x = x.view(-1,3*32*32)\n",
        "    x = self.fc1(x)\n",
        "    x = F.relu(x)\n",
        "    x = self.fc2(x)\n",
        "    return x"
      ],
      "metadata": {
        "id": "62_wpnNI3vh0"
      },
      "id": "62_wpnNI3vh0",
      "execution_count": null,
      "outputs": []
    },
    {
      "cell_type": "markdown",
      "id": "31239219-7352-4faa-a14a-0b3ad9ae54cd",
      "metadata": {
        "id": "31239219-7352-4faa-a14a-0b3ad9ae54cd"
      },
      "source": [
        "# Training the models on uncorrupted data"
      ]
    },
    {
      "cell_type": "markdown",
      "source": [
        "## Training Alexnet on uncorrupted data"
      ],
      "metadata": {
        "id": "2lMDqxT44SFc"
      },
      "id": "2lMDqxT44SFc"
    },
    {
      "cell_type": "code",
      "execution_count": null,
      "id": "b6e64e3a-edd0-4d63-a996-0622a10e209b",
      "metadata": {
        "colab": {
          "base_uri": "https://localhost:8080/"
        },
        "id": "b6e64e3a-edd0-4d63-a996-0622a10e209b",
        "outputId": "4536a34b-1f18-4e67-f202-60de6cc17fa1"
      },
      "outputs": [
        {
          "output_type": "stream",
          "name": "stdout",
          "text": [
            "cuda:0\n",
            "Files already downloaded and verified\n",
            "Files already downloaded and verified\n"
          ]
        }
      ],
      "source": [
        "# Initialize the model with all necessary specs\n",
        "device = torch.device(\"cuda:0\" if torch.cuda.is_available() else \"cpu\")\n",
        "print(device)\n",
        "alexnet = AlexNet()\n",
        "alexnet = alexnet.to(device)\n",
        "criterion = nn.CrossEntropyLoss()\n",
        "#get the data\n",
        "train_loader, test_loader = get_cifar_dataloaders_corrupted(0, batch_size = batch_size)\n"
      ]
    },
    {
      "cell_type": "code",
      "execution_count": null,
      "id": "5128d7a2-f65f-4449-b835-cc7360a8899a",
      "metadata": {
        "colab": {
          "base_uri": "https://localhost:8080/"
        },
        "id": "5128d7a2-f65f-4449-b835-cc7360a8899a",
        "outputId": "8fc5060b-2edf-4262-f711-8f73f6da6517"
      },
      "outputs": [
        {
          "output_type": "stream",
          "name": "stdout",
          "text": [
            "Batch 0 Loss: 2.9102590084075928\n",
            "Batch 200 Loss: 1.9181368350982666\n",
            "Batch 400 Loss: 1.6638240814208984\n",
            "Batch 600 Loss: 1.7601299285888672\n",
            "Batch 800 Loss: 1.5622047185897827\n",
            "Batch 1000 Loss: 1.4340437650680542\n",
            "Batch 1200 Loss: 1.43661367893219\n",
            "Batch 1400 Loss: 1.5600285530090332\n",
            "[Epoch 0] Train Loss: 1.7356133846664428 Vaidation Loss: 1.3132436281204223 Train Acc: 0.40936 Validation Acc: 0.5432\n",
            "Batch 0 Loss: 1.4810727834701538\n",
            "Batch 200 Loss: 1.6159226894378662\n",
            "Batch 400 Loss: 0.997055172920227\n",
            "Batch 600 Loss: 1.1973341703414917\n",
            "Batch 800 Loss: 1.1253389120101929\n",
            "Batch 1000 Loss: 1.1260654926300049\n",
            "Batch 1200 Loss: 1.100441813468933\n",
            "Batch 1400 Loss: 1.4911426305770874\n",
            "[Epoch 1] Train Loss: 1.2331493558120727 Vaidation Loss: 1.0680173645973206 Train Acc: 0.572 Validation Acc: 0.6314\n",
            "Batch 0 Loss: 0.9242004752159119\n",
            "Batch 200 Loss: 1.1935282945632935\n",
            "Batch 400 Loss: 0.985784649848938\n",
            "Batch 600 Loss: 0.8231567740440369\n",
            "Batch 800 Loss: 0.9277722835540771\n",
            "Batch 1000 Loss: 0.6543634533882141\n",
            "Batch 1200 Loss: 0.9878000617027283\n",
            "Batch 1400 Loss: 0.7521083950996399\n",
            "[Epoch 2] Train Loss: 0.9782168167495727 Vaidation Loss: 0.8934739981651306 Train Acc: 0.65992 Validation Acc: 0.6895\n",
            "Batch 0 Loss: 0.4880251884460449\n",
            "Batch 200 Loss: 0.5094121694564819\n",
            "Batch 400 Loss: 0.5713074207305908\n",
            "Batch 600 Loss: 0.8176996111869812\n",
            "Batch 800 Loss: 0.8147792220115662\n",
            "Batch 1000 Loss: 0.651089072227478\n",
            "Batch 1200 Loss: 0.8428313732147217\n",
            "Batch 1400 Loss: 0.7032527327537537\n",
            "[Epoch 3] Train Loss: 0.7869784556388855 Vaidation Loss: 0.7207817694664002 Train Acc: 0.72574 Validation Acc: 0.7522\n",
            "Batch 0 Loss: 0.6205087900161743\n",
            "Batch 200 Loss: 0.767392635345459\n",
            "Batch 400 Loss: 0.6896622776985168\n",
            "Batch 600 Loss: 0.5130633115768433\n",
            "Batch 800 Loss: 0.40433749556541443\n",
            "Batch 1000 Loss: 0.52805095911026\n",
            "Batch 1200 Loss: 0.33353176712989807\n",
            "Batch 1400 Loss: 0.39980366826057434\n",
            "[Epoch 4] Train Loss: 0.6551406700515747 Vaidation Loss: 0.6594894319534301 Train Acc: 0.77188 Validation Acc: 0.7732\n",
            "Batch 0 Loss: 0.5488002896308899\n",
            "Batch 200 Loss: 0.5528553128242493\n",
            "Batch 400 Loss: 0.49902015924453735\n",
            "Batch 600 Loss: 0.7011227011680603\n",
            "Batch 800 Loss: 0.7799274921417236\n",
            "Batch 1000 Loss: 0.6935497522354126\n",
            "Batch 1200 Loss: 0.562761127948761\n",
            "Batch 1400 Loss: 0.49453333020210266\n",
            "[Epoch 5] Train Loss: 0.5466749678707122 Vaidation Loss: 0.6055465882301331 Train Acc: 0.80886 Validation Acc: 0.7989\n",
            "Batch 0 Loss: 0.3570169508457184\n",
            "Batch 200 Loss: 0.7404017448425293\n",
            "Batch 400 Loss: 0.4081002473831177\n",
            "Batch 600 Loss: 0.32795435190200806\n",
            "Batch 800 Loss: 0.5420553088188171\n",
            "Batch 1000 Loss: 0.5309731960296631\n",
            "Batch 1200 Loss: 0.4255204200744629\n",
            "Batch 1400 Loss: 0.41837939620018005\n",
            "[Epoch 6] Train Loss: 0.46218540662288665 Vaidation Loss: 0.5875496441841126 Train Acc: 0.83776 Validation Acc: 0.8025\n",
            "Batch 0 Loss: 0.30285581946372986\n",
            "Batch 200 Loss: 0.26212605834007263\n",
            "Batch 400 Loss: 0.41848495602607727\n",
            "Batch 600 Loss: 0.5132889151573181\n",
            "Batch 800 Loss: 0.4427732527256012\n",
            "Batch 1000 Loss: 0.49281513690948486\n",
            "Batch 1200 Loss: 0.5036754012107849\n",
            "Batch 1400 Loss: 0.6071330308914185\n",
            "[Epoch 7] Train Loss: 0.3926030277752876 Vaidation Loss: 0.5708940333127975 Train Acc: 0.8618 Validation Acc: 0.8096\n",
            "Batch 0 Loss: 0.7780452370643616\n",
            "Batch 200 Loss: 0.37561503052711487\n",
            "Batch 400 Loss: 0.4169004261493683\n",
            "Batch 600 Loss: 0.4057296812534332\n",
            "Batch 800 Loss: 0.15355081856250763\n",
            "Batch 1000 Loss: 0.2622716426849365\n",
            "Batch 1200 Loss: 0.6478409767150879\n",
            "Batch 1400 Loss: 0.15513913333415985\n",
            "[Epoch 8] Train Loss: 0.33283921985149384 Vaidation Loss: 0.5512224688768387 Train Acc: 0.88324 Validation Acc: 0.8194\n",
            "Batch 0 Loss: 0.22848628461360931\n",
            "Batch 200 Loss: 0.33224666118621826\n",
            "Batch 400 Loss: 0.27331042289733887\n",
            "Batch 600 Loss: 0.5323395729064941\n",
            "Batch 800 Loss: 0.42448946833610535\n",
            "Batch 1000 Loss: 0.24476714432239532\n",
            "Batch 1200 Loss: 0.47219371795654297\n",
            "Batch 1400 Loss: 0.17257417738437653\n",
            "[Epoch 9] Train Loss: 0.27528927174806594 Vaidation Loss: 0.5300636979341506 Train Acc: 0.90236 Validation Acc: 0.8286\n",
            "Batch 0 Loss: 0.12887884676456451\n",
            "Batch 200 Loss: 0.2819930613040924\n",
            "Batch 400 Loss: 0.398247092962265\n",
            "Batch 600 Loss: 0.4270683825016022\n",
            "Batch 800 Loss: 0.10762627422809601\n",
            "Batch 1000 Loss: 0.3315107822418213\n",
            "Batch 1200 Loss: 0.2539615035057068\n",
            "Batch 1400 Loss: 0.47238409519195557\n",
            "[Epoch 10] Train Loss: 0.23463809587597848 Vaidation Loss: 0.5555185498714447 Train Acc: 0.91736 Validation Acc: 0.826\n",
            "Batch 0 Loss: 0.11245934665203094\n",
            "Batch 200 Loss: 0.02704538404941559\n",
            "Batch 400 Loss: 0.18791349232196808\n",
            "Batch 600 Loss: 0.17223398387432098\n",
            "Batch 800 Loss: 0.23742428421974182\n",
            "Batch 1000 Loss: 0.22973847389221191\n",
            "Batch 1200 Loss: 0.17958514392375946\n",
            "Batch 1400 Loss: 0.04213721305131912\n",
            "[Epoch 11] Train Loss: 0.19752626518189906 Vaidation Loss: 0.575708706665039 Train Acc: 0.93032 Validation Acc: 0.8303\n",
            "Batch 0 Loss: 0.13089558482170105\n",
            "Batch 200 Loss: 0.027799399569630623\n",
            "Batch 400 Loss: 0.1620163917541504\n",
            "Batch 600 Loss: 0.23261550068855286\n",
            "Batch 800 Loss: 0.2196841537952423\n",
            "Batch 1000 Loss: 0.10821504890918732\n",
            "Batch 1200 Loss: 0.23046036064624786\n",
            "Batch 1400 Loss: 0.17920567095279694\n",
            "[Epoch 12] Train Loss: 0.1640144348937273 Vaidation Loss: 0.5783322740316391 Train Acc: 0.9429 Validation Acc: 0.8336\n",
            "Batch 0 Loss: 0.3678646981716156\n",
            "Batch 200 Loss: 0.18885892629623413\n",
            "Batch 400 Loss: 0.2755976915359497\n",
            "Batch 600 Loss: 0.1467580497264862\n",
            "Batch 800 Loss: 0.10478952527046204\n",
            "Batch 1000 Loss: 0.10665903985500336\n",
            "Batch 1200 Loss: 0.11249738186597824\n",
            "Batch 1400 Loss: 0.2193940430879593\n",
            "[Epoch 13] Train Loss: 0.14423868153601885 Vaidation Loss: 0.5806450624942779 Train Acc: 0.9499 Validation Acc: 0.8368\n",
            "Batch 0 Loss: 0.2422960251569748\n",
            "Batch 200 Loss: 0.0723317414522171\n",
            "Batch 400 Loss: 0.05577526614069939\n",
            "Batch 600 Loss: 0.12363667041063309\n",
            "Batch 800 Loss: 0.22068503499031067\n",
            "Batch 1000 Loss: 0.033687151968479156\n",
            "Batch 1200 Loss: 0.13706155121326447\n",
            "Batch 1400 Loss: 0.1903143674135208\n",
            "[Epoch 14] Train Loss: 0.12038064762383699 Vaidation Loss: 0.5898751815199852 Train Acc: 0.95812 Validation Acc: 0.8375\n",
            "Batch 0 Loss: 0.026599165052175522\n",
            "Batch 200 Loss: 0.11160378158092499\n",
            "Batch 400 Loss: 0.05923905596137047\n",
            "Batch 600 Loss: 0.10136803984642029\n",
            "Batch 800 Loss: 0.1281720995903015\n",
            "Batch 1000 Loss: 0.14036552608013153\n",
            "Batch 1200 Loss: 0.05377843976020813\n",
            "Batch 1400 Loss: 0.1319505274295807\n",
            "[Epoch 15] Train Loss: 0.099337415548563 Vaidation Loss: 0.6026742085337639 Train Acc: 0.96474 Validation Acc: 0.8421\n",
            "Finished Training\n"
          ]
        }
      ],
      "source": [
        "# train the model\n",
        "optimizer = torch.optim.SGD(alexnet.parameters(), lr=0.01, momentum=0.9)\n",
        "decay_factor = 0.95\n",
        "lr_scheduler = StepLR(optimizer, step_size=1, gamma=decay_factor)\n",
        "train_losses, valid_losses, train_batch_losses, valid_batch_losses, train_accs, valid_accs = full_model_train(alexnet,\n",
        "                                                                                                              16,\n",
        "                                                                                                              train_loader,\n",
        "                                                                                                              test_loader,\n",
        "                                                                                                              device,\n",
        "                                                                                                              criterion,\n",
        "                                                                                                              optimizer, lr_scheduler,\n",
        "                                                                                                              \"AlexNet_0_corrupted\")"
      ]
    },
    {
      "cell_type": "code",
      "source": [
        "uncorruptData = {\"train_losses\": train_losses, \"valid_losses\":valid_losses, \"train_accs\":train_accs, \"valid_accs\":valid_accs}\n",
        "uncorruptDF = pd.DataFrame(uncorruptData)\n",
        "uncorruptDF.head()\n",
        "uncorruptDF.to_csv(\"uncorruptedDF.csv\", index = True)"
      ],
      "metadata": {
        "id": "UeUzZf81CO8K"
      },
      "id": "UeUzZf81CO8K",
      "execution_count": null,
      "outputs": []
    },
    {
      "cell_type": "code",
      "source": [
        "print(f\"accuracy:{accuracy_model(alexnet, test_loader)}\")"
      ],
      "metadata": {
        "id": "OuLo-uYkzkRH",
        "colab": {
          "base_uri": "https://localhost:8080/"
        },
        "outputId": "bd3d96c8-2a25-48d0-ff3a-b4b39cf673dd"
      },
      "id": "OuLo-uYkzkRH",
      "execution_count": null,
      "outputs": [
        {
          "output_type": "stream",
          "name": "stdout",
          "text": [
            "accuracy:0.8421\n"
          ]
        }
      ]
    },
    {
      "cell_type": "markdown",
      "source": [],
      "metadata": {
        "id": "9SEE8ZnPEwOm"
      },
      "id": "9SEE8ZnPEwOm"
    },
    {
      "cell_type": "markdown",
      "id": "a1c634e4-c6c7-46b4-964d-df066e766750",
      "metadata": {
        "id": "a1c634e4-c6c7-46b4-964d-df066e766750"
      },
      "source": [
        "## Training AlexNet on corrupted data"
      ]
    },
    {
      "cell_type": "code",
      "execution_count": null,
      "id": "1848a8f2-2f5e-4ff9-b3e1-21af4f8f735b",
      "metadata": {
        "id": "1848a8f2-2f5e-4ff9-b3e1-21af4f8f735b",
        "colab": {
          "base_uri": "https://localhost:8080/"
        },
        "outputId": "7793be83-b456-4ecf-b1d9-545a45472734"
      },
      "outputs": [
        {
          "output_type": "stream",
          "name": "stdout",
          "text": [
            "Files already downloaded and verified\n",
            "Files already downloaded and verified\n",
            "Batch 0 Loss: 3.375173807144165\n",
            "Batch 200 Loss: 2.279301404953003\n",
            "Batch 400 Loss: 2.2940495014190674\n",
            "Batch 600 Loss: 2.3410792350769043\n",
            "Batch 800 Loss: 2.3719851970672607\n",
            "Batch 1000 Loss: 2.3386363983154297\n",
            "Batch 1200 Loss: 2.3866195678710938\n",
            "Batch 1400 Loss: 2.3212454319000244\n",
            "[Epoch 0] Train Loss: 2.396459018249512 Vaidation Loss: 2.30497610206604 Train Acc: 0.1111 Validation Acc: 0.1055\n",
            "Batch 0 Loss: 2.297677755355835\n",
            "Batch 200 Loss: 2.39863920211792\n",
            "Batch 400 Loss: 2.349578619003296\n",
            "Batch 600 Loss: 2.2524819374084473\n",
            "Batch 800 Loss: 2.32769775390625\n",
            "Batch 1000 Loss: 2.2766823768615723\n",
            "Batch 1200 Loss: 2.3040456771850586\n",
            "Batch 1400 Loss: 2.2885351181030273\n",
            "[Epoch 1] Train Loss: 2.3078588541412355 Vaidation Loss: 2.300492716217041 Train Acc: 0.11064 Validation Acc: 0.1047\n",
            "Batch 0 Loss: 2.297473669052124\n",
            "Batch 200 Loss: 2.304757833480835\n",
            "Batch 400 Loss: 2.3589394092559814\n",
            "Batch 600 Loss: 2.408407211303711\n",
            "Batch 800 Loss: 2.2780380249023438\n",
            "Batch 1000 Loss: 2.2966387271881104\n",
            "Batch 1200 Loss: 2.302302837371826\n",
            "Batch 1400 Loss: 2.320584297180176\n",
            "[Epoch 2] Train Loss: 2.3049932250213625 Vaidation Loss: 2.306576578140259 Train Acc: 0.1131 Validation Acc: 0.111\n",
            "Batch 0 Loss: 2.327468156814575\n",
            "Batch 200 Loss: 2.274970531463623\n",
            "Batch 400 Loss: 2.2879507541656494\n",
            "Batch 600 Loss: 2.29105281829834\n",
            "Batch 800 Loss: 2.264475107192993\n",
            "Batch 1000 Loss: 2.2870523929595947\n",
            "Batch 1200 Loss: 2.3146567344665527\n",
            "Batch 1400 Loss: 2.338233232498169\n",
            "[Epoch 3] Train Loss: 2.3039638523864747 Vaidation Loss: 2.3016703983306885 Train Acc: 0.1111 Validation Acc: 0.1143\n",
            "Batch 0 Loss: 2.292206048965454\n",
            "Batch 200 Loss: 2.3032474517822266\n",
            "Batch 400 Loss: 2.2895455360412598\n",
            "Batch 600 Loss: 2.2962236404418945\n",
            "Batch 800 Loss: 2.3431713581085205\n",
            "Batch 1000 Loss: 2.3035106658935547\n",
            "Batch 1200 Loss: 2.3423635959625244\n",
            "Batch 1400 Loss: 2.2609384059906006\n",
            "[Epoch 4] Train Loss: 2.3034791742706298 Vaidation Loss: 2.2985872680664063 Train Acc: 0.11548 Validation Acc: 0.1154\n",
            "Batch 0 Loss: 2.2869439125061035\n",
            "Batch 200 Loss: 2.2894206047058105\n",
            "Batch 400 Loss: 2.313535451889038\n",
            "Batch 600 Loss: 2.2853260040283203\n",
            "Batch 800 Loss: 2.3177995681762695\n",
            "Batch 1000 Loss: 2.3168694972991943\n",
            "Batch 1200 Loss: 2.3248817920684814\n",
            "Batch 1400 Loss: 2.2829434871673584\n",
            "[Epoch 5] Train Loss: 2.3026362998962404 Vaidation Loss: 2.3006281707763674 Train Acc: 0.11224 Validation Acc: 0.1147\n",
            "Batch 0 Loss: 2.299358367919922\n",
            "Batch 200 Loss: 2.397041082382202\n",
            "Batch 400 Loss: 2.287928819656372\n",
            "Batch 600 Loss: 2.3088390827178955\n",
            "Batch 800 Loss: 2.341761350631714\n",
            "Batch 1000 Loss: 2.239513635635376\n",
            "Batch 1200 Loss: 2.312039852142334\n",
            "Batch 1400 Loss: 2.2586145401000977\n",
            "[Epoch 6] Train Loss: 2.3021993519592283 Vaidation Loss: 2.3020322944641114 Train Acc: 0.11454 Validation Acc: 0.102\n",
            "Batch 0 Loss: 2.303755521774292\n",
            "Batch 200 Loss: 2.31463885307312\n",
            "Batch 400 Loss: 2.363724708557129\n",
            "Batch 600 Loss: 2.313234329223633\n",
            "Batch 800 Loss: 2.2467567920684814\n",
            "Batch 1000 Loss: 2.314295768737793\n",
            "Batch 1200 Loss: 2.307486057281494\n",
            "Batch 1400 Loss: 2.3176956176757812\n",
            "[Epoch 7] Train Loss: 2.3012365155029295 Vaidation Loss: 2.3017569732666017 Train Acc: 0.11874 Validation Acc: 0.1101\n",
            "Batch 0 Loss: 2.2987444400787354\n",
            "Batch 200 Loss: 2.2941339015960693\n",
            "Batch 400 Loss: 2.282240629196167\n",
            "Batch 600 Loss: 2.2741472721099854\n",
            "Batch 800 Loss: 2.28360652923584\n",
            "Batch 1000 Loss: 2.3746883869171143\n",
            "Batch 1200 Loss: 2.2914035320281982\n",
            "Batch 1400 Loss: 2.2528083324432373\n",
            "[Epoch 8] Train Loss: 2.300855217514038 Vaidation Loss: 2.2992631862640383 Train Acc: 0.11778 Validation Acc: 0.1182\n",
            "Batch 0 Loss: 2.2987782955169678\n",
            "Batch 200 Loss: 2.3073549270629883\n",
            "Batch 400 Loss: 2.2769501209259033\n",
            "Batch 600 Loss: 2.276930570602417\n",
            "Batch 800 Loss: 2.2887380123138428\n",
            "Batch 1000 Loss: 2.300429105758667\n",
            "Batch 1200 Loss: 2.338693380355835\n",
            "Batch 1400 Loss: 2.2697980403900146\n",
            "[Epoch 9] Train Loss: 2.2989830154418947 Vaidation Loss: 2.297881974411011 Train Acc: 0.12214 Validation Acc: 0.127\n",
            "Batch 0 Loss: 2.271151542663574\n",
            "Batch 200 Loss: 2.28714919090271\n",
            "Batch 400 Loss: 2.3069446086883545\n",
            "Batch 600 Loss: 2.2876856327056885\n",
            "Batch 800 Loss: 2.204667329788208\n",
            "Batch 1000 Loss: 2.308706283569336\n",
            "Batch 1200 Loss: 2.306514263153076\n",
            "Batch 1400 Loss: 2.3175265789031982\n",
            "[Epoch 10] Train Loss: 2.297571081542969 Vaidation Loss: 2.294227719497681 Train Acc: 0.1234 Validation Acc: 0.1266\n",
            "Batch 0 Loss: 2.284902334213257\n",
            "Batch 200 Loss: 2.3527984619140625\n",
            "Batch 400 Loss: 2.3183114528656006\n",
            "Batch 600 Loss: 2.2837073802948\n",
            "Batch 800 Loss: 2.2749130725860596\n",
            "Batch 1000 Loss: 2.288520097732544\n",
            "Batch 1200 Loss: 2.2472379207611084\n",
            "Batch 1400 Loss: 2.3061275482177734\n",
            "[Epoch 11] Train Loss: 2.297447893676758 Vaidation Loss: 2.298984117126465 Train Acc: 0.12446 Validation Acc: 0.13\n",
            "Batch 0 Loss: 2.2296500205993652\n",
            "Batch 200 Loss: 2.347501277923584\n",
            "Batch 400 Loss: 2.268993616104126\n",
            "Batch 600 Loss: 2.2629716396331787\n",
            "Batch 800 Loss: 2.2839832305908203\n",
            "Batch 1000 Loss: 2.283320188522339\n",
            "Batch 1200 Loss: 2.3195865154266357\n",
            "Batch 1400 Loss: 2.2616822719573975\n",
            "[Epoch 12] Train Loss: 2.2967232457733155 Vaidation Loss: 2.2967008407592773 Train Acc: 0.12788 Validation Acc: 0.1269\n",
            "Batch 0 Loss: 2.2955687046051025\n",
            "Batch 200 Loss: 2.3106634616851807\n",
            "Batch 400 Loss: 2.306497812271118\n",
            "Batch 600 Loss: 2.3033785820007324\n",
            "Batch 800 Loss: 2.3478994369506836\n",
            "Batch 1000 Loss: 2.3146474361419678\n",
            "Batch 1200 Loss: 2.254969358444214\n",
            "Batch 1400 Loss: 2.2645132541656494\n",
            "[Epoch 13] Train Loss: 2.2936941371917725 Vaidation Loss: 2.2988706413269044 Train Acc: 0.12802 Validation Acc: 0.1189\n",
            "Batch 0 Loss: 2.2974138259887695\n",
            "Batch 200 Loss: 2.2898242473602295\n",
            "Batch 400 Loss: 2.341513156890869\n",
            "Batch 600 Loss: 2.2970144748687744\n",
            "Batch 800 Loss: 2.3703806400299072\n",
            "Batch 1000 Loss: 2.2549896240234375\n",
            "Batch 1200 Loss: 2.2906289100646973\n",
            "Batch 1400 Loss: 2.226766586303711\n",
            "[Epoch 14] Train Loss: 2.292484865722656 Vaidation Loss: 2.29306633644104 Train Acc: 0.1317 Validation Acc: 0.1329\n",
            "Batch 0 Loss: 2.322183132171631\n",
            "Batch 200 Loss: 2.3329708576202393\n",
            "Batch 400 Loss: 2.3048503398895264\n",
            "Batch 600 Loss: 2.2862398624420166\n",
            "Batch 800 Loss: 2.282715082168579\n",
            "Batch 1000 Loss: 2.3701820373535156\n",
            "Batch 1200 Loss: 2.3315796852111816\n",
            "Batch 1400 Loss: 2.2427525520324707\n",
            "[Epoch 15] Train Loss: 2.290382063217163 Vaidation Loss: 2.295651991271973 Train Acc: 0.13428 Validation Acc: 0.125\n",
            "Finished Training\n"
          ]
        }
      ],
      "source": [
        "#initialize\n",
        "train_loaderCor, test_loaderCor = get_cifar_dataloaders_corrupted(0.8) #80% corruption probability\n",
        "alexnetCor = AlexNet()\n",
        "alexnetCor = alexnetCor.to(device)\n",
        "optimizerCor = optim.SGD(alexnetCor.parameters(), lr=0.01, momentum=0.9)\n",
        "criterionCor = nn.CrossEntropyLoss()\n",
        "decay_factor = 0.95\n",
        "lr_scheduler = StepLR(optimizer, step_size=1, gamma=decay_factor)\n",
        "\n",
        "#Training\n",
        "train_lossesCor, valid_lossesCor, train_batch_lossesCor, valid_batch_lossesCor, train_accsCor, valid_accsCor = full_model_train(alexnetCor,\n",
        "                                                                                                                                16,\n",
        "                                                                                                                                train_loaderCor,\n",
        "                                                                                                                                test_loaderCor,\n",
        "                                                                                                                                device,\n",
        "                                                                                                                                criterionCor,\n",
        "                                                                                                                                optimizerCor,lr_scheduler,\n",
        "                                                                                                                                \"AlexNet_80_corrupted\")"
      ]
    },
    {
      "cell_type": "code",
      "source": [
        "corruptData = {\"train_lossesCor\": train_lossesCor, \"valid_lossesCor\":valid_lossesCor, \"train_accsCor\":train_accsCor, \"valid_accsCor\":valid_accsCor}\n",
        "corruptDF = pd.DataFrame(corruptData)\n",
        "corruptDF.head()\n",
        "corruptDF.to_csv(\"corruptedDF.csv\", index = True)"
      ],
      "metadata": {
        "id": "zIv9D3KnDNG2"
      },
      "id": "zIv9D3KnDNG2",
      "execution_count": null,
      "outputs": []
    },
    {
      "cell_type": "code",
      "source": [
        "print(f\"accuracy:{accuracy_model(alexnetCor, test_loaderCor)}\")"
      ],
      "metadata": {
        "id": "kATMTwXRzwUs",
        "colab": {
          "base_uri": "https://localhost:8080/"
        },
        "outputId": "22127e59-dcfc-4890-bc23-e09da19b64ae"
      },
      "id": "kATMTwXRzwUs",
      "execution_count": null,
      "outputs": [
        {
          "output_type": "stream",
          "name": "stdout",
          "text": [
            "accuracy:0.125\n"
          ]
        }
      ]
    },
    {
      "cell_type": "markdown",
      "source": [
        "## Training MLP on uncorrupted data"
      ],
      "metadata": {
        "id": "_YNBcj7-4aUm"
      },
      "id": "_YNBcj7-4aUm"
    },
    {
      "cell_type": "code",
      "source": [
        "# Initialize the model with all necessary specs\n",
        "device = torch.device(\"cuda:0\" if torch.cuda.is_available() else \"cpu\")\n",
        "mlp = MLP()\n",
        "mlp = mlp.to(device)\n",
        "criterion = nn.CrossEntropyLoss()\n",
        "optimizerMLP = optim.SGD(mlp.parameters(), lr=0.01, momentum=0.9)\n",
        "decay_factor = 0.95\n",
        "lr_scheduler = StepLR(optimizer, step_size=1, gamma=decay_factor)\n",
        "#get the data\n",
        "train_loaderMLP, test_loaderMLP = get_cifar_dataloaders_corrupted(0, batch_size = batch_size, axis_size = 32)\n"
      ],
      "metadata": {
        "id": "Y9WIucWu4kIU",
        "colab": {
          "base_uri": "https://localhost:8080/"
        },
        "outputId": "8239ac59-6b4c-4c8b-849a-56d5f04f3a3b"
      },
      "id": "Y9WIucWu4kIU",
      "execution_count": null,
      "outputs": [
        {
          "output_type": "stream",
          "name": "stdout",
          "text": [
            "Files already downloaded and verified\n",
            "Files already downloaded and verified\n"
          ]
        }
      ]
    },
    {
      "cell_type": "code",
      "source": [
        "#Training\n",
        "MLPtrain_losses, MLPvalid_losses, MLPtrain_batch_losses, MLPvalid_batch_losses, MLPtrain_accs, MLPvalid_accs = full_model_train(mlp,\n",
        "                                                                                                                                16,\n",
        "                                                                                                                                train_loaderMLP,\n",
        "                                                                                                                                test_loaderMLP,\n",
        "                                                                                                                                device,\n",
        "                                                                                                                                criterion,\n",
        "                                                                                                                                optimizerMLP, lr_scheduler,\n",
        "                                                                                                                                \"MLP_0_corrupted\")"
      ],
      "metadata": {
        "id": "w6YVI4s-5eG9",
        "colab": {
          "base_uri": "https://localhost:8080/"
        },
        "outputId": "a33e9d71-3cf1-4852-f907-ee7a54786d5b"
      },
      "id": "w6YVI4s-5eG9",
      "execution_count": null,
      "outputs": [
        {
          "output_type": "stream",
          "name": "stdout",
          "text": [
            "Batch 0 Loss: 2.3561770915985107\n",
            "Batch 200 Loss: 1.6262574195861816\n",
            "Batch 400 Loss: 1.8212804794311523\n",
            "Batch 600 Loss: 1.8794941902160645\n",
            "Batch 800 Loss: 1.7655937671661377\n",
            "Batch 1000 Loss: 1.5495219230651855\n",
            "Batch 1200 Loss: 1.693855881690979\n",
            "Batch 1400 Loss: 1.4090497493743896\n"
          ]
        },
        {
          "output_type": "stream",
          "name": "stderr",
          "text": [
            "/usr/local/lib/python3.10/dist-packages/torch/optim/lr_scheduler.py:136: UserWarning: Detected call of `lr_scheduler.step()` before `optimizer.step()`. In PyTorch 1.1.0 and later, you should call them in the opposite order: `optimizer.step()` before `lr_scheduler.step()`.  Failure to do this will result in PyTorch skipping the first value of the learning rate schedule. See more details at https://pytorch.org/docs/stable/optim.html#how-to-adjust-learning-rate\n",
            "  warnings.warn(\"Detected call of `lr_scheduler.step()` before `optimizer.step()`. \"\n"
          ]
        },
        {
          "output_type": "stream",
          "name": "stdout",
          "text": [
            "[Epoch 0] Train Loss: 1.6784486554336548 Vaidation Loss: 1.5486772367477417 Train Acc: 0.41734 Validation Acc: 0.4465\n",
            "Batch 0 Loss: 1.3006856441497803\n",
            "Batch 200 Loss: 1.1284257173538208\n",
            "Batch 400 Loss: 1.8649101257324219\n",
            "Batch 600 Loss: 1.4352365732192993\n",
            "Batch 800 Loss: 1.5255435705184937\n",
            "Batch 1000 Loss: 1.5180768966674805\n",
            "Batch 1200 Loss: 1.4680935144424438\n",
            "Batch 1400 Loss: 1.0674328804016113\n",
            "[Epoch 1] Train Loss: 1.4983658959579467 Vaidation Loss: 1.503345842552185 Train Acc: 0.48168 Validation Acc: 0.4811\n",
            "Batch 0 Loss: 1.1576074361801147\n",
            "Batch 200 Loss: 1.192183017730713\n",
            "Batch 400 Loss: 1.5657680034637451\n",
            "Batch 600 Loss: 1.1779727935791016\n",
            "Batch 800 Loss: 1.736875057220459\n",
            "Batch 1000 Loss: 1.8598828315734863\n",
            "Batch 1200 Loss: 1.5628637075424194\n",
            "Batch 1400 Loss: 1.9742928743362427\n",
            "[Epoch 2] Train Loss: 1.428692767944336 Vaidation Loss: 1.532567015838623 Train Acc: 0.50968 Validation Acc: 0.4795\n",
            "Batch 0 Loss: 1.0982868671417236\n",
            "Batch 200 Loss: 1.471104383468628\n",
            "Batch 400 Loss: 1.203150987625122\n",
            "Batch 600 Loss: 1.4589349031448364\n",
            "Batch 800 Loss: 1.2514184713363647\n",
            "Batch 1000 Loss: 1.4239577054977417\n",
            "Batch 1200 Loss: 1.0492156744003296\n",
            "Batch 1400 Loss: 1.2280538082122803\n",
            "[Epoch 3] Train Loss: 1.3722986759567262 Vaidation Loss: 1.531450087928772 Train Acc: 0.53256 Validation Acc: 0.4895\n",
            "Batch 0 Loss: 1.1693705320358276\n",
            "Batch 200 Loss: 1.9953505992889404\n",
            "Batch 400 Loss: 1.282577633857727\n",
            "Batch 600 Loss: 1.6605838537216187\n",
            "Batch 800 Loss: 0.9100600481033325\n",
            "Batch 1000 Loss: 1.4003862142562866\n",
            "Batch 1200 Loss: 1.106798529624939\n",
            "Batch 1400 Loss: 1.4362890720367432\n",
            "[Epoch 4] Train Loss: 1.3444350469970703 Vaidation Loss: 1.4814087442398072 Train Acc: 0.54662 Validation Acc: 0.498\n",
            "Batch 0 Loss: 1.2372448444366455\n",
            "Batch 200 Loss: 1.3146296739578247\n",
            "Batch 400 Loss: 1.5493521690368652\n",
            "Batch 600 Loss: 1.142924189567566\n",
            "Batch 800 Loss: 1.6236333847045898\n",
            "Batch 1000 Loss: 1.3591030836105347\n",
            "Batch 1200 Loss: 0.76947021484375\n",
            "Batch 1400 Loss: 1.0789707899093628\n",
            "[Epoch 5] Train Loss: 1.3013671535110474 Vaidation Loss: 1.5564504114151 Train Acc: 0.56282 Validation Acc: 0.5033\n",
            "Batch 0 Loss: 1.3130232095718384\n",
            "Batch 200 Loss: 1.1102865934371948\n",
            "Batch 400 Loss: 1.13274347782135\n",
            "Batch 600 Loss: 0.9244592189788818\n",
            "Batch 800 Loss: 1.9486197233200073\n",
            "Batch 1000 Loss: 1.6481636762619019\n",
            "Batch 1200 Loss: 1.2942575216293335\n",
            "Batch 1400 Loss: 1.2615901231765747\n",
            "[Epoch 6] Train Loss: 1.261240621547699 Vaidation Loss: 1.5886468534469604 Train Acc: 0.57854 Validation Acc: 0.4916\n",
            "Batch 0 Loss: 0.898057758808136\n",
            "Batch 200 Loss: 1.1825872659683228\n",
            "Batch 400 Loss: 1.3395042419433594\n",
            "Batch 600 Loss: 1.1595518589019775\n",
            "Batch 800 Loss: 1.552811622619629\n",
            "Batch 1000 Loss: 1.0438745021820068\n",
            "Batch 1200 Loss: 1.322921633720398\n",
            "Batch 1400 Loss: 1.1544703245162964\n",
            "[Epoch 7] Train Loss: 1.23618195728302 Vaidation Loss: 1.5616803476333618 Train Acc: 0.58764 Validation Acc: 0.5066\n",
            "Batch 0 Loss: 1.0228439569473267\n",
            "Batch 200 Loss: 0.928394615650177\n",
            "Batch 400 Loss: 1.024261713027954\n",
            "Batch 600 Loss: 1.283324122428894\n",
            "Batch 800 Loss: 1.2952479124069214\n",
            "Batch 1000 Loss: 1.1365176439285278\n",
            "Batch 1200 Loss: 1.6456745862960815\n",
            "Batch 1400 Loss: 1.2710331678390503\n",
            "[Epoch 8] Train Loss: 1.190233016872406 Vaidation Loss: 1.7024057340621948 Train Acc: 0.60512 Validation Acc: 0.5015\n",
            "Batch 0 Loss: 1.410469651222229\n",
            "Batch 200 Loss: 1.3157901763916016\n",
            "Batch 400 Loss: 1.185351848602295\n",
            "Batch 600 Loss: 1.4697010517120361\n",
            "Batch 800 Loss: 1.094054937362671\n",
            "Batch 1000 Loss: 1.1255748271942139\n",
            "Batch 1200 Loss: 1.1675442457199097\n",
            "Batch 1400 Loss: 1.7697080373764038\n",
            "[Epoch 9] Train Loss: 1.1693070974731445 Vaidation Loss: 1.6064788045883178 Train Acc: 0.61524 Validation Acc: 0.499\n",
            "Batch 0 Loss: 1.0335286855697632\n",
            "Batch 200 Loss: 1.4320099353790283\n",
            "Batch 400 Loss: 1.5237257480621338\n",
            "Batch 600 Loss: 0.7361074686050415\n",
            "Batch 800 Loss: 0.7618549466133118\n",
            "Batch 1000 Loss: 1.147721529006958\n",
            "Batch 1200 Loss: 1.090193510055542\n",
            "Batch 1400 Loss: 0.9652323126792908\n",
            "[Epoch 10] Train Loss: 1.1362748552322388 Vaidation Loss: 1.60045415725708 Train Acc: 0.62692 Validation Acc: 0.517\n",
            "Batch 0 Loss: 1.2124699354171753\n",
            "Batch 200 Loss: 0.8874179124832153\n",
            "Batch 400 Loss: 1.355002999305725\n",
            "Batch 600 Loss: 1.3059743642807007\n",
            "Batch 800 Loss: 1.090946078300476\n",
            "Batch 1000 Loss: 0.9778387546539307\n",
            "Batch 1200 Loss: 1.3173878192901611\n",
            "Batch 1400 Loss: 1.1982120275497437\n",
            "[Epoch 11] Train Loss: 1.1211899375343324 Vaidation Loss: 1.660747544670105 Train Acc: 0.63442 Validation Acc: 0.5129\n",
            "Batch 0 Loss: 1.742682933807373\n",
            "Batch 200 Loss: 0.7627571821212769\n",
            "Batch 400 Loss: 0.9027474522590637\n",
            "Batch 600 Loss: 1.0311554670333862\n",
            "Batch 800 Loss: 1.4333572387695312\n",
            "Batch 1000 Loss: 0.770366907119751\n",
            "Batch 1200 Loss: 0.8629868626594543\n",
            "Batch 1400 Loss: 0.9794164896011353\n",
            "[Epoch 12] Train Loss: 1.0988552775001525 Vaidation Loss: 1.684798445892334 Train Acc: 0.64462 Validation Acc: 0.517\n",
            "Batch 0 Loss: 1.0185006856918335\n",
            "Batch 200 Loss: 0.8350191116333008\n",
            "Batch 400 Loss: 0.7487410306930542\n",
            "Batch 600 Loss: 0.7450344562530518\n",
            "Batch 800 Loss: 1.0098973512649536\n",
            "Batch 1000 Loss: 1.385703444480896\n",
            "Batch 1200 Loss: 1.2572935819625854\n",
            "Batch 1400 Loss: 0.9406469464302063\n",
            "[Epoch 13] Train Loss: 1.0530796068954469 Vaidation Loss: 1.7625047958374023 Train Acc: 0.65808 Validation Acc: 0.5182\n",
            "Batch 0 Loss: 1.1870474815368652\n",
            "Batch 200 Loss: 1.2508726119995117\n",
            "Batch 400 Loss: 0.5846295952796936\n",
            "Batch 600 Loss: 1.2238309383392334\n",
            "Batch 800 Loss: 0.993122935295105\n",
            "Batch 1000 Loss: 1.4892709255218506\n",
            "Batch 1200 Loss: 1.0463565587997437\n",
            "Batch 1400 Loss: 1.380662202835083\n",
            "[Epoch 14] Train Loss: 1.0422224926185608 Vaidation Loss: 1.7732947973251343 Train Acc: 0.66508 Validation Acc: 0.512\n",
            "Batch 0 Loss: 0.7389225959777832\n",
            "Batch 200 Loss: 0.7537894248962402\n",
            "Batch 400 Loss: 1.0609080791473389\n",
            "Batch 600 Loss: 1.167755126953125\n",
            "Batch 800 Loss: 1.5754902362823486\n",
            "Batch 1000 Loss: 0.7949855923652649\n",
            "Batch 1200 Loss: 1.0030256509780884\n",
            "Batch 1400 Loss: 0.8182597160339355\n",
            "[Epoch 15] Train Loss: 1.0136668314933777 Vaidation Loss: 1.8367397764205933 Train Acc: 0.67596 Validation Acc: 0.518\n",
            "Finished Training\n"
          ]
        }
      ]
    },
    {
      "cell_type": "code",
      "source": [
        "uncorruptDataMLP = {\"train_losses\": MLPtrain_losses, \"valid_losses\":MLPvalid_losses, \"train_accs\":MLPtrain_accs, \"valid_accs\":MLPvalid_accs}\n",
        "uncorruptDFMLP = pd.DataFrame(uncorruptDataMLP)\n",
        "uncorruptDFMLP.to_csv(\"uncorruptDFMLP.csv\", index = True)"
      ],
      "metadata": {
        "id": "ojmQMfw47iue"
      },
      "id": "ojmQMfw47iue",
      "execution_count": null,
      "outputs": []
    },
    {
      "cell_type": "code",
      "source": [
        "print(f\"accuracy:{accuracy_model(mlp, test_loaderMLP)}\")"
      ],
      "metadata": {
        "id": "9hj_VijQ8FgZ",
        "colab": {
          "base_uri": "https://localhost:8080/"
        },
        "outputId": "52111a17-1aea-4fca-ce84-a1539222ed6e"
      },
      "id": "9hj_VijQ8FgZ",
      "execution_count": null,
      "outputs": [
        {
          "output_type": "stream",
          "name": "stdout",
          "text": [
            "accuracy:0.518\n"
          ]
        }
      ]
    },
    {
      "cell_type": "markdown",
      "source": [
        "## Training MLP on corrupted data"
      ],
      "metadata": {
        "id": "1P-frlmM4hRJ"
      },
      "id": "1P-frlmM4hRJ"
    },
    {
      "cell_type": "code",
      "source": [
        "# Initialize the model with all necessary specs\n",
        "device = torch.device(\"cuda:0\" if torch.cuda.is_available() else \"cpu\")\n",
        "print(device)\n",
        "mlpCor = MLP()\n",
        "mlpCor = mlpCor.to(device)\n",
        "criterion = nn.CrossEntropyLoss()\n",
        "optimizerMLPCor = optim.SGD(mlpCor.parameters(), lr=0.001, momentum=0.9)\n",
        "decay_factor = 1\n",
        "lr_scheduler = StepLR(optimizerMLPCor, step_size=1, gamma=decay_factor)\n",
        "#get the data\n",
        "train_loaderMLPCor, test_loaderMLPCor = get_cifar_dataloaders_corrupted(0.8, batch_size = batch_size, axis_size = 32)\n"
      ],
      "metadata": {
        "id": "mMZPHwfc443o",
        "colab": {
          "base_uri": "https://localhost:8080/"
        },
        "outputId": "39d8f18a-c26c-4c30-91e5-6e3c156adc62"
      },
      "id": "mMZPHwfc443o",
      "execution_count": null,
      "outputs": [
        {
          "output_type": "stream",
          "name": "stdout",
          "text": [
            "cuda:0\n",
            "Downloading https://www.cs.toronto.edu/~kriz/cifar-10-python.tar.gz to ./CIFAR/cifar-10-python.tar.gz\n"
          ]
        },
        {
          "output_type": "stream",
          "name": "stderr",
          "text": [
            "100%|██████████| 170498071/170498071 [00:11<00:00, 15207572.59it/s]\n"
          ]
        },
        {
          "output_type": "stream",
          "name": "stdout",
          "text": [
            "Extracting ./CIFAR/cifar-10-python.tar.gz to ./CIFAR\n",
            "Files already downloaded and verified\n"
          ]
        }
      ]
    },
    {
      "cell_type": "code",
      "source": [
        "#Training\n",
        "MLPtrain_lossesCor, MLPvalid_lossesCor, MLPtrain_batch_lossesCor, MLPvalid_batch_lossesCor, MLPtrain_accsCor, MLPvalid_accsCor = full_model_train(mlpCor,\n",
        "                                                                                                                                50,\n",
        "                                                                                                                                train_loaderMLPCor,\n",
        "                                                                                                                                test_loaderMLPCor,\n",
        "                                                                                                                                device,\n",
        "                                                                                                                                criterion,\n",
        "                                                                                                                                optimizerMLPCor, lr_scheduler,\n",
        "                                                                                                                                \"MLP_80_corrupted\")"
      ],
      "metadata": {
        "id": "K4riZwiK59tI",
        "colab": {
          "base_uri": "https://localhost:8080/"
        },
        "outputId": "8027a810-5225-4a10-b32d-cefb433b6b5f"
      },
      "id": "K4riZwiK59tI",
      "execution_count": null,
      "outputs": [
        {
          "output_type": "stream",
          "name": "stdout",
          "text": [
            "Batch 0 Loss: 2.333747625350952\n",
            "Batch 200 Loss: 2.353713274002075\n",
            "Batch 400 Loss: 2.3077428340911865\n",
            "Batch 600 Loss: 2.3555655479431152\n",
            "Batch 800 Loss: 2.2860777378082275\n",
            "Batch 1000 Loss: 2.2663064002990723\n",
            "Batch 1200 Loss: 2.239686965942383\n",
            "Batch 1400 Loss: 2.3425538539886475\n",
            "[Epoch 0] Train Loss: 2.290723983230591 Vaidation Loss: 2.2821615287780763 Train Acc: 0.14088 Validation Acc: 0.1487\n",
            "Batch 0 Loss: 2.2677161693573\n",
            "Batch 200 Loss: 2.2807209491729736\n",
            "Batch 400 Loss: 2.2670412063598633\n",
            "Batch 600 Loss: 2.2675650119781494\n",
            "Batch 800 Loss: 2.264516830444336\n",
            "Batch 1000 Loss: 2.319408655166626\n",
            "Batch 1200 Loss: 2.2840962409973145\n",
            "Batch 1400 Loss: 2.2744140625\n",
            "[Epoch 1] Train Loss: 2.272356550369263 Vaidation Loss: 2.2814758766174315 Train Acc: 0.16196 Validation Acc: 0.1569\n",
            "Batch 0 Loss: 2.2539191246032715\n",
            "Batch 200 Loss: 2.272569417953491\n",
            "Batch 400 Loss: 2.234180212020874\n",
            "Batch 600 Loss: 2.258918285369873\n",
            "Batch 800 Loss: 2.192885160446167\n",
            "Batch 1000 Loss: 2.3469271659851074\n",
            "Batch 1200 Loss: 2.2573304176330566\n",
            "Batch 1400 Loss: 2.247443675994873\n",
            "[Epoch 2] Train Loss: 2.2612444917297365 Vaidation Loss: 2.280641175079346 Train Acc: 0.17064 Validation Acc: 0.16\n",
            "Batch 0 Loss: 2.1831157207489014\n",
            "Batch 200 Loss: 2.2202088832855225\n",
            "Batch 400 Loss: 2.2909159660339355\n",
            "Batch 600 Loss: 2.257002592086792\n",
            "Batch 800 Loss: 2.3280906677246094\n",
            "Batch 1000 Loss: 2.1649560928344727\n",
            "Batch 1200 Loss: 2.282177448272705\n",
            "Batch 1400 Loss: 2.252809524536133\n",
            "[Epoch 3] Train Loss: 2.2501992166137694 Vaidation Loss: 2.2846717750549317 Train Acc: 0.17892 Validation Acc: 0.1574\n",
            "Batch 0 Loss: 2.1348960399627686\n",
            "Batch 200 Loss: 2.2308671474456787\n",
            "Batch 400 Loss: 2.207883596420288\n",
            "Batch 600 Loss: 2.312737464904785\n",
            "Batch 800 Loss: 2.1892096996307373\n",
            "Batch 1000 Loss: 2.219515085220337\n",
            "Batch 1200 Loss: 2.2400572299957275\n",
            "Batch 1400 Loss: 2.2401483058929443\n",
            "[Epoch 4] Train Loss: 2.2400629711914064 Vaidation Loss: 2.2870813022613525 Train Acc: 0.18562 Validation Acc: 0.1482\n",
            "Batch 0 Loss: 2.2538044452667236\n",
            "Batch 200 Loss: 2.256443738937378\n",
            "Batch 400 Loss: 2.2054436206817627\n",
            "Batch 600 Loss: 2.285520315170288\n",
            "Batch 800 Loss: 2.2362184524536133\n",
            "Batch 1000 Loss: 2.15596866607666\n",
            "Batch 1200 Loss: 2.144493818283081\n",
            "Batch 1400 Loss: 2.153618097305298\n",
            "[Epoch 5] Train Loss: 2.228687918701172 Vaidation Loss: 2.2893710990905762 Train Acc: 0.19266 Validation Acc: 0.1593\n",
            "Batch 0 Loss: 2.230597734451294\n",
            "Batch 200 Loss: 2.1091854572296143\n",
            "Batch 400 Loss: 2.1681411266326904\n",
            "Batch 600 Loss: 2.1641108989715576\n",
            "Batch 800 Loss: 2.2023110389709473\n",
            "Batch 1000 Loss: 2.231276273727417\n",
            "Batch 1200 Loss: 2.2886033058166504\n",
            "Batch 1400 Loss: 2.2358601093292236\n",
            "[Epoch 6] Train Loss: 2.217221656188965 Vaidation Loss: 2.2950758701324463 Train Acc: 0.19812 Validation Acc: 0.1478\n",
            "Batch 0 Loss: 2.112319231033325\n",
            "Batch 200 Loss: 2.1646413803100586\n",
            "Batch 400 Loss: 2.260615348815918\n",
            "Batch 600 Loss: 2.280014991760254\n",
            "Batch 800 Loss: 2.209775686264038\n",
            "Batch 1000 Loss: 2.168093681335449\n",
            "Batch 1200 Loss: 2.1363906860351562\n",
            "Batch 1400 Loss: 2.1487855911254883\n",
            "[Epoch 7] Train Loss: 2.2050270638275147 Vaidation Loss: 2.2989307277679445 Train Acc: 0.20762 Validation Acc: 0.1539\n",
            "Batch 0 Loss: 2.1650426387786865\n",
            "Batch 200 Loss: 2.2191760540008545\n",
            "Batch 400 Loss: 2.278851270675659\n",
            "Batch 600 Loss: 2.3204100131988525\n",
            "Batch 800 Loss: 2.163024663925171\n",
            "Batch 1000 Loss: 2.1176342964172363\n",
            "Batch 1200 Loss: 2.256765842437744\n",
            "Batch 1400 Loss: 2.2033772468566895\n",
            "[Epoch 8] Train Loss: 2.1899137332153322 Vaidation Loss: 2.309242413711548 Train Acc: 0.21414 Validation Acc: 0.1487\n",
            "Batch 0 Loss: 2.177053928375244\n",
            "Batch 200 Loss: 2.0472099781036377\n",
            "Batch 400 Loss: 2.196443557739258\n",
            "Batch 600 Loss: 2.20338773727417\n",
            "Batch 800 Loss: 2.143254280090332\n",
            "Batch 1000 Loss: 2.1924943923950195\n",
            "Batch 1200 Loss: 2.1865015029907227\n",
            "Batch 1400 Loss: 2.189297914505005\n",
            "[Epoch 9] Train Loss: 2.17591799949646 Vaidation Loss: 2.3213891357421876 Train Acc: 0.2215 Validation Acc: 0.1444\n",
            "Batch 0 Loss: 2.064706325531006\n",
            "Batch 200 Loss: 2.215435743331909\n",
            "Batch 400 Loss: 2.198820114135742\n",
            "Batch 600 Loss: 2.1491498947143555\n",
            "Batch 800 Loss: 2.309751510620117\n",
            "Batch 1000 Loss: 2.152013063430786\n",
            "Batch 1200 Loss: 2.258784532546997\n",
            "Batch 1400 Loss: 2.2394137382507324\n",
            "[Epoch 10] Train Loss: 2.1611225817871094 Vaidation Loss: 2.327452480316162 Train Acc: 0.22658 Validation Acc: 0.1477\n",
            "Batch 0 Loss: 2.151308059692383\n",
            "Batch 200 Loss: 2.0864486694335938\n",
            "Batch 400 Loss: 2.1923911571502686\n",
            "Batch 600 Loss: 2.2406773567199707\n",
            "Batch 800 Loss: 2.3258440494537354\n",
            "Batch 1000 Loss: 2.1247100830078125\n",
            "Batch 1200 Loss: 2.2315123081207275\n",
            "Batch 1400 Loss: 2.2497262954711914\n",
            "[Epoch 11] Train Loss: 2.143616633453369 Vaidation Loss: 2.3380560691833496 Train Acc: 0.23542 Validation Acc: 0.1462\n",
            "Batch 0 Loss: 2.091763973236084\n",
            "Batch 200 Loss: 2.227478504180908\n",
            "Batch 400 Loss: 2.1174447536468506\n",
            "Batch 600 Loss: 2.151472568511963\n",
            "Batch 800 Loss: 2.000532865524292\n",
            "Batch 1000 Loss: 2.0559723377227783\n",
            "Batch 1200 Loss: 2.135882616043091\n",
            "Batch 1400 Loss: 2.170182228088379\n",
            "[Epoch 12] Train Loss: 2.126191224517822 Vaidation Loss: 2.346624262237549 Train Acc: 0.2489 Validation Acc: 0.1422\n",
            "Batch 0 Loss: 2.045288324356079\n",
            "Batch 200 Loss: 2.126537561416626\n",
            "Batch 400 Loss: 1.9581804275512695\n",
            "Batch 600 Loss: 2.020124912261963\n",
            "Batch 800 Loss: 1.9603461027145386\n",
            "Batch 1000 Loss: 2.065908432006836\n",
            "Batch 1200 Loss: 1.9433493614196777\n",
            "Batch 1400 Loss: 2.1890978813171387\n",
            "[Epoch 13] Train Loss: 2.1065735637283325 Vaidation Loss: 2.354719302368164 Train Acc: 0.2556 Validation Acc: 0.144\n",
            "Batch 0 Loss: 2.042386770248413\n",
            "Batch 200 Loss: 1.9230973720550537\n",
            "Batch 400 Loss: 2.084895133972168\n",
            "Batch 600 Loss: 2.165029287338257\n",
            "Batch 800 Loss: 2.2258126735687256\n",
            "Batch 1000 Loss: 2.1310126781463623\n",
            "Batch 1200 Loss: 2.147135019302368\n",
            "Batch 1400 Loss: 1.9679322242736816\n",
            "[Epoch 14] Train Loss: 2.08794220703125 Vaidation Loss: 2.3733838539123537 Train Acc: 0.2648 Validation Acc: 0.1436\n",
            "Batch 0 Loss: 2.1074631214141846\n",
            "Batch 200 Loss: 2.1455698013305664\n",
            "Batch 400 Loss: 2.081190586090088\n",
            "Batch 600 Loss: 2.2180123329162598\n",
            "Batch 800 Loss: 2.2796847820281982\n",
            "Batch 1000 Loss: 2.0562024116516113\n",
            "Batch 1200 Loss: 1.8817890882492065\n",
            "Batch 1400 Loss: 2.1379032135009766\n",
            "[Epoch 15] Train Loss: 2.0652127334594725 Vaidation Loss: 2.3840519165039065 Train Acc: 0.27366 Validation Acc: 0.1363\n",
            "Batch 0 Loss: 2.1278488636016846\n",
            "Batch 200 Loss: 2.0895023345947266\n",
            "Batch 400 Loss: 2.0391461849212646\n",
            "Batch 600 Loss: 2.129030704498291\n",
            "Batch 800 Loss: 2.1505305767059326\n",
            "Batch 1000 Loss: 2.1636154651641846\n",
            "Batch 1200 Loss: 2.123401403427124\n",
            "Batch 1400 Loss: 2.0791091918945312\n",
            "[Epoch 16] Train Loss: 2.042658708267212 Vaidation Loss: 2.3930762313842773 Train Acc: 0.28618 Validation Acc: 0.1334\n",
            "Batch 0 Loss: 2.060612440109253\n",
            "Batch 200 Loss: 2.1302130222320557\n",
            "Batch 400 Loss: 1.9041494131088257\n",
            "Batch 600 Loss: 2.1273536682128906\n",
            "Batch 800 Loss: 1.7986356019973755\n",
            "Batch 1000 Loss: 1.8562989234924316\n",
            "Batch 1200 Loss: 1.9038853645324707\n",
            "Batch 1400 Loss: 2.068913459777832\n",
            "[Epoch 17] Train Loss: 2.018857611618042 Vaidation Loss: 2.426324459838867 Train Acc: 0.2947 Validation Acc: 0.1311\n",
            "Batch 0 Loss: 2.0097527503967285\n",
            "Batch 200 Loss: 2.005319356918335\n",
            "Batch 400 Loss: 1.922284722328186\n",
            "Batch 600 Loss: 1.947506070137024\n",
            "Batch 800 Loss: 1.935853123664856\n",
            "Batch 1000 Loss: 2.041304588317871\n",
            "Batch 1200 Loss: 1.9060415029525757\n",
            "Batch 1400 Loss: 1.9172090291976929\n",
            "[Epoch 18] Train Loss: 1.9942883042907715 Vaidation Loss: 2.433986218261719 Train Acc: 0.30588 Validation Acc: 0.1354\n",
            "Batch 0 Loss: 1.9784127473831177\n",
            "Batch 200 Loss: 2.1045517921447754\n",
            "Batch 400 Loss: 2.075254201889038\n",
            "Batch 600 Loss: 1.8036643266677856\n",
            "Batch 800 Loss: 2.0938098430633545\n",
            "Batch 1000 Loss: 1.8979086875915527\n",
            "Batch 1200 Loss: 1.9558753967285156\n",
            "Batch 1400 Loss: 2.0863358974456787\n",
            "[Epoch 19] Train Loss: 1.9686343230056762 Vaidation Loss: 2.464322515487671 Train Acc: 0.3192 Validation Acc: 0.1305\n",
            "Batch 0 Loss: 1.8370349407196045\n",
            "Batch 200 Loss: 1.9761217832565308\n",
            "Batch 400 Loss: 2.004287004470825\n",
            "Batch 600 Loss: 2.094055652618408\n",
            "Batch 800 Loss: 1.9110164642333984\n",
            "Batch 1000 Loss: 1.9473907947540283\n",
            "Batch 1200 Loss: 1.963445782661438\n",
            "Batch 1400 Loss: 1.8485673666000366\n",
            "[Epoch 20] Train Loss: 1.9419879254150392 Vaidation Loss: 2.4878293270111085 Train Acc: 0.3286 Validation Acc: 0.1236\n",
            "Batch 0 Loss: 1.821273922920227\n",
            "Batch 200 Loss: 1.944459080696106\n",
            "Batch 400 Loss: 1.8352230787277222\n",
            "Batch 600 Loss: 1.8608448505401611\n",
            "Batch 800 Loss: 2.0312583446502686\n",
            "Batch 1000 Loss: 1.9182511568069458\n",
            "Batch 1200 Loss: 1.9164294004440308\n",
            "Batch 1400 Loss: 1.8582305908203125\n",
            "[Epoch 21] Train Loss: 1.9146679582977295 Vaidation Loss: 2.510090853881836 Train Acc: 0.34216 Validation Acc: 0.1276\n",
            "Batch 0 Loss: 1.9816720485687256\n",
            "Batch 200 Loss: 2.164776086807251\n",
            "Batch 400 Loss: 1.9882097244262695\n",
            "Batch 600 Loss: 1.8687419891357422\n",
            "Batch 800 Loss: 1.9582557678222656\n",
            "Batch 1000 Loss: 2.072263240814209\n",
            "Batch 1200 Loss: 1.8932147026062012\n",
            "Batch 1400 Loss: 1.9844470024108887\n",
            "[Epoch 22] Train Loss: 1.887888932647705 Vaidation Loss: 2.5394712436676024 Train Acc: 0.35136 Validation Acc: 0.1236\n",
            "Batch 0 Loss: 1.7545568943023682\n",
            "Batch 200 Loss: 1.8317784070968628\n",
            "Batch 400 Loss: 2.067122459411621\n",
            "Batch 600 Loss: 1.8092327117919922\n",
            "Batch 800 Loss: 1.6497218608856201\n",
            "Batch 1000 Loss: 1.8133312463760376\n",
            "Batch 1200 Loss: 2.0257961750030518\n",
            "Batch 1400 Loss: 1.802293062210083\n",
            "[Epoch 23] Train Loss: 1.857600782470703 Vaidation Loss: 2.540767499923706 Train Acc: 0.36402 Validation Acc: 0.1267\n",
            "Batch 0 Loss: 1.8748865127563477\n",
            "Batch 200 Loss: 1.700238823890686\n",
            "Batch 400 Loss: 2.0101120471954346\n",
            "Batch 600 Loss: 1.8483779430389404\n",
            "Batch 800 Loss: 1.7828516960144043\n",
            "Batch 1000 Loss: 1.9977295398712158\n",
            "Batch 1200 Loss: 1.7931569814682007\n",
            "Batch 1400 Loss: 1.7386603355407715\n",
            "[Epoch 24] Train Loss: 1.8287008728027343 Vaidation Loss: 2.6142389694213866 Train Acc: 0.37606 Validation Acc: 0.1252\n",
            "Batch 0 Loss: 1.6550143957138062\n",
            "Batch 200 Loss: 1.741077184677124\n",
            "Batch 400 Loss: 1.6642470359802246\n",
            "Batch 600 Loss: 1.5628550052642822\n",
            "Batch 800 Loss: 1.6655080318450928\n",
            "Batch 1000 Loss: 1.8103026151657104\n",
            "Batch 1200 Loss: 2.0805680751800537\n",
            "Batch 1400 Loss: 1.6938197612762451\n",
            "[Epoch 25] Train Loss: 1.8003676777648925 Vaidation Loss: 2.6272848751068114 Train Acc: 0.39018 Validation Acc: 0.1285\n",
            "Batch 0 Loss: 1.8901082277297974\n",
            "Batch 200 Loss: 1.7752141952514648\n",
            "Batch 400 Loss: 1.6079002618789673\n",
            "Batch 600 Loss: 1.783691167831421\n",
            "Batch 800 Loss: 1.8289693593978882\n",
            "Batch 1000 Loss: 1.7393279075622559\n",
            "Batch 1200 Loss: 1.8454769849777222\n",
            "Batch 1400 Loss: 1.8474867343902588\n",
            "[Epoch 26] Train Loss: 1.767038002281189 Vaidation Loss: 2.639463765716553 Train Acc: 0.40112 Validation Acc: 0.1231\n",
            "Batch 0 Loss: 1.6253114938735962\n",
            "Batch 200 Loss: 1.606583595275879\n",
            "Batch 400 Loss: 1.6291251182556152\n",
            "Batch 600 Loss: 1.798545241355896\n",
            "Batch 800 Loss: 1.5295950174331665\n",
            "Batch 1000 Loss: 1.6754273176193237\n",
            "Batch 1200 Loss: 1.9013299942016602\n",
            "Batch 1400 Loss: 1.6796013116836548\n",
            "[Epoch 27] Train Loss: 1.7377271938323975 Vaidation Loss: 2.6571748931884764 Train Acc: 0.41364 Validation Acc: 0.1217\n",
            "Batch 0 Loss: 1.745845079421997\n",
            "Batch 200 Loss: 1.5981354713439941\n",
            "Batch 400 Loss: 1.8546769618988037\n",
            "Batch 600 Loss: 1.8061009645462036\n",
            "Batch 800 Loss: 1.7214211225509644\n",
            "Batch 1000 Loss: 1.912048578262329\n",
            "Batch 1200 Loss: 1.7512538433074951\n",
            "Batch 1400 Loss: 1.578782081604004\n",
            "[Epoch 28] Train Loss: 1.7049686587524413 Vaidation Loss: 2.702951138305664 Train Acc: 0.42958 Validation Acc: 0.1219\n",
            "Batch 0 Loss: 1.610561728477478\n",
            "Batch 200 Loss: 1.6975932121276855\n",
            "Batch 400 Loss: 1.388558268547058\n",
            "Batch 600 Loss: 1.7517808675765991\n",
            "Batch 800 Loss: 1.774017333984375\n",
            "Batch 1000 Loss: 1.41748046875\n",
            "Batch 1200 Loss: 1.6622107028961182\n",
            "Batch 1400 Loss: 1.9843924045562744\n",
            "[Epoch 29] Train Loss: 1.672698070602417 Vaidation Loss: 2.7229135387420653 Train Acc: 0.43974 Validation Acc: 0.1217\n",
            "Batch 0 Loss: 1.4355968236923218\n",
            "Batch 200 Loss: 1.7361080646514893\n",
            "Batch 400 Loss: 1.4034157991409302\n",
            "Batch 600 Loss: 1.7310173511505127\n",
            "Batch 800 Loss: 1.7379741668701172\n",
            "Batch 1000 Loss: 1.3491207361221313\n",
            "Batch 1200 Loss: 1.7139956951141357\n",
            "Batch 1400 Loss: 1.9247394800186157\n",
            "[Epoch 30] Train Loss: 1.6401892473220825 Vaidation Loss: 2.751246363830566 Train Acc: 0.44998 Validation Acc: 0.1265\n",
            "Batch 0 Loss: 1.7417746782302856\n",
            "Batch 200 Loss: 1.5709760189056396\n",
            "Batch 400 Loss: 1.4340271949768066\n",
            "Batch 600 Loss: 1.6746630668640137\n",
            "Batch 800 Loss: 1.379090428352356\n",
            "Batch 1000 Loss: 1.52882719039917\n",
            "Batch 1200 Loss: 1.7967606782913208\n",
            "Batch 1400 Loss: 1.8288047313690186\n",
            "[Epoch 31] Train Loss: 1.6101914362335206 Vaidation Loss: 2.7928410552978518 Train Acc: 0.46484 Validation Acc: 0.1276\n",
            "Batch 0 Loss: 1.3089722394943237\n",
            "Batch 200 Loss: 1.5755420923233032\n",
            "Batch 400 Loss: 1.3589378595352173\n",
            "Batch 600 Loss: 1.707629680633545\n",
            "Batch 800 Loss: 1.5189932584762573\n",
            "Batch 1000 Loss: 1.4301947355270386\n",
            "Batch 1200 Loss: 1.6460753679275513\n",
            "Batch 1400 Loss: 1.6293277740478516\n",
            "[Epoch 32] Train Loss: 1.5762260556793213 Vaidation Loss: 2.830156721115112 Train Acc: 0.47632 Validation Acc: 0.1182\n",
            "Batch 0 Loss: 1.6005539894104004\n",
            "Batch 200 Loss: 1.7612568140029907\n",
            "Batch 400 Loss: 1.4539905786514282\n",
            "Batch 600 Loss: 1.525408387184143\n",
            "Batch 800 Loss: 1.448773741722107\n",
            "Batch 1000 Loss: 1.6644495725631714\n",
            "Batch 1200 Loss: 1.3749204874038696\n",
            "Batch 1400 Loss: 1.3479671478271484\n",
            "[Epoch 33] Train Loss: 1.5452396278381348 Vaidation Loss: 2.840640562438965 Train Acc: 0.48742 Validation Acc: 0.1284\n",
            "Batch 0 Loss: 1.3845113515853882\n",
            "Batch 200 Loss: 1.6536026000976562\n",
            "Batch 400 Loss: 1.706140398979187\n",
            "Batch 600 Loss: 1.188896656036377\n",
            "Batch 800 Loss: 1.629629135131836\n",
            "Batch 1000 Loss: 1.0915673971176147\n",
            "Batch 1200 Loss: 1.7816883325576782\n",
            "Batch 1400 Loss: 1.5926945209503174\n",
            "[Epoch 34] Train Loss: 1.5167901901626586 Vaidation Loss: 2.9304503520965577 Train Acc: 0.49752 Validation Acc: 0.1234\n",
            "Batch 0 Loss: 1.2722117900848389\n",
            "Batch 200 Loss: 1.1730018854141235\n",
            "Batch 400 Loss: 1.567861557006836\n",
            "Batch 600 Loss: 1.5124965906143188\n",
            "Batch 800 Loss: 1.6448296308517456\n",
            "Batch 1000 Loss: 1.8950070142745972\n",
            "Batch 1200 Loss: 1.411177396774292\n",
            "Batch 1400 Loss: 1.356539011001587\n",
            "[Epoch 35] Train Loss: 1.4833262369918823 Vaidation Loss: 2.9644530204772948 Train Acc: 0.51124 Validation Acc: 0.1197\n",
            "Batch 0 Loss: 1.1517150402069092\n",
            "Batch 200 Loss: 1.606279969215393\n",
            "Batch 400 Loss: 1.3339736461639404\n",
            "Batch 600 Loss: 1.504002332687378\n",
            "Batch 800 Loss: 1.5810405015945435\n",
            "Batch 1000 Loss: 1.2036715745925903\n",
            "Batch 1200 Loss: 1.461225152015686\n",
            "Batch 1400 Loss: 1.3211355209350586\n",
            "[Epoch 36] Train Loss: 1.4529865867614746 Vaidation Loss: 3.0116863971710206 Train Acc: 0.52226 Validation Acc: 0.1135\n",
            "Batch 0 Loss: 1.5026787519454956\n",
            "Batch 200 Loss: 1.2244629859924316\n",
            "Batch 400 Loss: 1.362652063369751\n",
            "Batch 600 Loss: 1.5625516176223755\n",
            "Batch 800 Loss: 1.3228703737258911\n",
            "Batch 1000 Loss: 1.4367982149124146\n",
            "Batch 1200 Loss: 1.6546542644500732\n",
            "Batch 1400 Loss: 1.553087830543518\n",
            "[Epoch 37] Train Loss: 1.4228588653945924 Vaidation Loss: 3.011105770492554 Train Acc: 0.5328 Validation Acc: 0.1231\n",
            "Batch 0 Loss: 1.3070400953292847\n",
            "Batch 200 Loss: 1.5983049869537354\n",
            "Batch 400 Loss: 1.1788307428359985\n",
            "Batch 600 Loss: 1.2230024337768555\n",
            "Batch 800 Loss: 1.1620330810546875\n",
            "Batch 1000 Loss: 1.4844659566879272\n",
            "Batch 1200 Loss: 1.149490237236023\n",
            "Batch 1400 Loss: 1.3830064535140991\n",
            "[Epoch 38] Train Loss: 1.381896880607605 Vaidation Loss: 3.08843278465271 Train Acc: 0.54874 Validation Acc: 0.1179\n",
            "Batch 0 Loss: 1.0580717325210571\n",
            "Batch 200 Loss: 1.4893155097961426\n",
            "Batch 400 Loss: 1.3799731731414795\n",
            "Batch 600 Loss: 1.502678632736206\n",
            "Batch 800 Loss: 1.44105064868927\n",
            "Batch 1000 Loss: 1.3568159341812134\n",
            "Batch 1200 Loss: 1.2283587455749512\n",
            "Batch 1400 Loss: 1.3815308809280396\n",
            "[Epoch 39] Train Loss: 1.3569904693222046 Vaidation Loss: 3.1183580924987795 Train Acc: 0.55884 Validation Acc: 0.1159\n",
            "Batch 0 Loss: 1.4341791868209839\n",
            "Batch 200 Loss: 1.4211913347244263\n",
            "Batch 400 Loss: 1.3078721761703491\n",
            "Batch 600 Loss: 1.3548245429992676\n",
            "Batch 800 Loss: 1.4250460863113403\n",
            "Batch 1000 Loss: 1.4696557521820068\n",
            "Batch 1200 Loss: 1.3078668117523193\n",
            "Batch 1400 Loss: 1.1614656448364258\n",
            "[Epoch 40] Train Loss: 1.3287995717620849 Vaidation Loss: 3.1715988044738768 Train Acc: 0.56572 Validation Acc: 0.1202\n",
            "Batch 0 Loss: 1.3805599212646484\n",
            "Batch 200 Loss: 1.1961008310317993\n",
            "Batch 400 Loss: 1.0375559329986572\n",
            "Batch 600 Loss: 1.1923333406448364\n",
            "Batch 800 Loss: 1.1942269802093506\n",
            "Batch 1000 Loss: 1.3785555362701416\n",
            "Batch 1200 Loss: 1.339324951171875\n",
            "Batch 1400 Loss: 1.5309232473373413\n",
            "[Epoch 41] Train Loss: 1.2935338348007202 Vaidation Loss: 3.247942523574829 Train Acc: 0.5811 Validation Acc: 0.1226\n",
            "Batch 0 Loss: 1.3523597717285156\n",
            "Batch 200 Loss: 1.2305330038070679\n",
            "Batch 400 Loss: 1.1493092775344849\n",
            "Batch 600 Loss: 1.2731825113296509\n",
            "Batch 800 Loss: 1.1364672183990479\n",
            "Batch 1000 Loss: 1.1648141145706177\n",
            "Batch 1200 Loss: 0.9745749235153198\n",
            "Batch 1400 Loss: 1.3415281772613525\n",
            "[Epoch 42] Train Loss: 1.2664850930786133 Vaidation Loss: 3.2530060684204103 Train Acc: 0.59122 Validation Acc: 0.1193\n",
            "Batch 0 Loss: 0.8159275650978088\n",
            "Batch 200 Loss: 1.028774380683899\n",
            "Batch 400 Loss: 1.2598450183868408\n",
            "Batch 600 Loss: 1.195090889930725\n",
            "Batch 800 Loss: 1.0873427391052246\n",
            "Batch 1000 Loss: 1.1837815046310425\n",
            "Batch 1200 Loss: 1.4106453657150269\n",
            "Batch 1400 Loss: 1.1931785345077515\n",
            "[Epoch 43] Train Loss: 1.2345910129928588 Vaidation Loss: 3.2533799026489256 Train Acc: 0.60192 Validation Acc: 0.115\n",
            "Batch 0 Loss: 1.1126588582992554\n",
            "Batch 200 Loss: 0.852157711982727\n",
            "Batch 400 Loss: 1.0464184284210205\n",
            "Batch 600 Loss: 1.2437043190002441\n",
            "Batch 800 Loss: 1.0421879291534424\n",
            "Batch 1000 Loss: 1.7531051635742188\n",
            "Batch 1200 Loss: 1.2828843593597412\n",
            "Batch 1400 Loss: 1.0311462879180908\n",
            "[Epoch 44] Train Loss: 1.2059501318740844 Vaidation Loss: 3.31269891166687 Train Acc: 0.61064 Validation Acc: 0.1156\n",
            "Batch 0 Loss: 1.2290844917297363\n",
            "Batch 200 Loss: 1.1483560800552368\n",
            "Batch 400 Loss: 1.2322169542312622\n",
            "Batch 600 Loss: 1.1995407342910767\n",
            "Batch 800 Loss: 1.0131617784500122\n",
            "Batch 1000 Loss: 1.3288737535476685\n",
            "Batch 1200 Loss: 1.0902190208435059\n",
            "Batch 1400 Loss: 1.4005303382873535\n",
            "[Epoch 45] Train Loss: 1.1733492790985107 Vaidation Loss: 3.3845364120483397 Train Acc: 0.62598 Validation Acc: 0.122\n",
            "Batch 0 Loss: 0.9600171446800232\n",
            "Batch 200 Loss: 1.4122167825698853\n",
            "Batch 400 Loss: 0.9413323402404785\n",
            "Batch 600 Loss: 1.1650625467300415\n",
            "Batch 800 Loss: 1.0535452365875244\n",
            "Batch 1000 Loss: 1.0320584774017334\n",
            "Batch 1200 Loss: 1.3116201162338257\n",
            "Batch 1400 Loss: 1.021398663520813\n",
            "[Epoch 46] Train Loss: 1.1449986249160766 Vaidation Loss: 3.4099056213378907 Train Acc: 0.63468 Validation Acc: 0.1177\n",
            "Batch 0 Loss: 1.2564525604248047\n",
            "Batch 200 Loss: 1.139533281326294\n",
            "Batch 400 Loss: 1.12001371383667\n",
            "Batch 600 Loss: 1.0245338678359985\n",
            "Batch 800 Loss: 1.145180583000183\n",
            "Batch 1000 Loss: 1.0820882320404053\n",
            "Batch 1200 Loss: 1.4120417833328247\n",
            "Batch 1400 Loss: 1.2636175155639648\n",
            "[Epoch 47] Train Loss: 1.1214376348495483 Vaidation Loss: 3.4231662101745606 Train Acc: 0.64186 Validation Acc: 0.1151\n",
            "Batch 0 Loss: 1.132323145866394\n",
            "Batch 200 Loss: 1.1958400011062622\n",
            "Batch 400 Loss: 0.8843807578086853\n",
            "Batch 600 Loss: 1.251111626625061\n",
            "Batch 800 Loss: 1.4049445390701294\n",
            "Batch 1000 Loss: 1.3892754316329956\n",
            "Batch 1200 Loss: 1.2361027002334595\n",
            "Batch 1400 Loss: 1.0418397188186646\n",
            "[Epoch 48] Train Loss: 1.0931228701972961 Vaidation Loss: 3.484879367828369 Train Acc: 0.65172 Validation Acc: 0.1236\n",
            "Batch 0 Loss: 1.1151756048202515\n",
            "Batch 200 Loss: 1.3056857585906982\n",
            "Batch 400 Loss: 0.8878729343414307\n",
            "Batch 600 Loss: 0.8419801592826843\n",
            "Batch 800 Loss: 0.9082905650138855\n",
            "Batch 1000 Loss: 1.1241000890731812\n",
            "Batch 1200 Loss: 1.1908860206604004\n",
            "Batch 1400 Loss: 1.212788462638855\n",
            "[Epoch 49] Train Loss: 1.0630305528640747 Vaidation Loss: 3.6265576202392578 Train Acc: 0.66236 Validation Acc: 0.1163\n",
            "Finished Training\n"
          ]
        }
      ]
    },
    {
      "cell_type": "code",
      "source": [
        "corruptDataMLP = {\"train_losses\": MLPtrain_lossesCor, \"valid_losses\":MLPvalid_lossesCor, \"train_accs\":MLPtrain_accsCor, \"valid_accs\":MLPvalid_accsCor}\n",
        "corruptDFMLP = pd.DataFrame(corruptDataMLP)\n",
        "corruptDFMLP.to_csv(\"corruptDFMLP.csv\", index = True)"
      ],
      "metadata": {
        "id": "42hlVMA-70Xe"
      },
      "id": "42hlVMA-70Xe",
      "execution_count": null,
      "outputs": []
    },
    {
      "cell_type": "code",
      "source": [
        "print(f\"accuracy:{accuracy_model(mlpCor, test_loaderMLPCor)}\")"
      ],
      "metadata": {
        "id": "85TAmvCC8I_s",
        "colab": {
          "base_uri": "https://localhost:8080/"
        },
        "outputId": "745c874c-70fd-46dc-cd98-9b5a05478377"
      },
      "id": "85TAmvCC8I_s",
      "execution_count": null,
      "outputs": [
        {
          "output_type": "stream",
          "name": "stdout",
          "text": [
            "accuracy:0.1163\n"
          ]
        }
      ]
    },
    {
      "cell_type": "markdown",
      "source": [
        "# Reuse pretrained model to improve generalization"
      ],
      "metadata": {
        "id": "JB0EYwpyQXbZ"
      },
      "id": "JB0EYwpyQXbZ"
    },
    {
      "cell_type": "code",
      "source": [
        "# If you do not run the full script Drag & Drop the file into the files folder in google collab and wait for the upload"
      ],
      "metadata": {
        "id": "XpvmqhOoUOw3"
      },
      "id": "XpvmqhOoUOw3",
      "execution_count": null,
      "outputs": []
    },
    {
      "cell_type": "code",
      "source": [
        "model_file_path = '/content/AlexNet_80_corrupted.pth'\n",
        "\n",
        "#check if file upload successful should be approx 217MB\n",
        "file_size = os.path.getsize(model_file_path)\n",
        "print(\"File size:\", file_size, \"bytes\")\n",
        "\n",
        "#load model\n",
        "PTAN = AlexNet()\n",
        "PTAN.load_state_dict(torch.load(model_file_path))"
      ],
      "metadata": {
        "id": "ErLGuVReala9",
        "colab": {
          "base_uri": "https://localhost:8080/"
        },
        "outputId": "71b25b4f-a126-44e2-c5ce-063aa6f7785a"
      },
      "id": "ErLGuVReala9",
      "execution_count": null,
      "outputs": [
        {
          "output_type": "stream",
          "name": "stdout",
          "text": [
            "File size: 228212004 bytes\n"
          ]
        },
        {
          "output_type": "execute_result",
          "data": {
            "text/plain": [
              "<All keys matched successfully>"
            ]
          },
          "metadata": {},
          "execution_count": 79
        }
      ]
    },
    {
      "cell_type": "code",
      "source": [
        "#Define training specs\n",
        "#GPU support\n",
        "device = torch.device(\"cuda:0\" if torch.cuda.is_available() else \"cpu\")\n",
        "print(device)\n",
        "PTAN = PTAN.to(device)\n",
        "criterion = nn.CrossEntropyLoss()\n",
        "#get the data\n",
        "train_loader, test_loader = get_cifar_dataloaders_corrupted(0, batch_size = batch_size)"
      ],
      "metadata": {
        "id": "BvPzdYj0bUgI"
      },
      "id": "BvPzdYj0bUgI",
      "execution_count": null,
      "outputs": []
    },
    {
      "cell_type": "code",
      "source": [
        "#Train the pretrained again\n",
        "optimizer = torch.optim.SGD(PTAN.parameters(), lr=0.01, momentum=0.9) #standard 60m-blitz values\n",
        "train_lossesPTAN, valid_lossesPTAN, train_batch_lossesPTAN, valid_batch_lossesPTAN, train_accsPTAN, valid_accsPTAN = full_model_train(PTAN,\n",
        "                                                                                                                                      10,\n",
        "                                                                                                                                      train_loader,\n",
        "                                                                                                                                      test_loader,\n",
        "                                                                                                                                      device,\n",
        "                                                                                                                                      criterion,\n",
        "                                                                                                                                      optimizer, \"PTAN_0_corrupted\")"
      ],
      "metadata": {
        "id": "7TVSMVf4TG3s"
      },
      "id": "7TVSMVf4TG3s",
      "execution_count": null,
      "outputs": []
    },
    {
      "cell_type": "code",
      "source": [
        "print(f\"accuracy:{accuracy_model(PTAN)}\")"
      ],
      "metadata": {
        "id": "eknoX3BpA3pA"
      },
      "id": "eknoX3BpA3pA",
      "execution_count": null,
      "outputs": []
    },
    {
      "cell_type": "markdown",
      "source": [
        "# Plot results\n"
      ],
      "metadata": {
        "id": "inOe6kUe-HVH"
      },
      "id": "inOe6kUe-HVH"
    },
    {
      "cell_type": "code",
      "source": [
        "plot_losses(train_losses, valid_losses, train_accs, valid_accs, \"AlexNet 50% dropout 0% corruption\")"
      ],
      "metadata": {
        "id": "kzSnOJvZCG8m",
        "colab": {
          "base_uri": "https://localhost:8080/",
          "height": 279
        },
        "outputId": "78fd9577-21a1-4c58-8288-ea861f893771"
      },
      "id": "kzSnOJvZCG8m",
      "execution_count": null,
      "outputs": [
        {
          "output_type": "display_data",
          "data": {
            "text/plain": [
              "<Figure size 1600x600 with 2 Axes>"
            ],
            "image/png": "[encoded data removed]"
          },
          "metadata": {}
        }
      ]
    },
    {
      "cell_type": "code",
      "source": [
        "plot_losses(train_lossesCor, valid_lossesCor, train_accsCor, valid_accsCor, \"AlexNet 50% dropout 80% corruption\")"
      ],
      "metadata": {
        "id": "KxJ9Gd4yDqgh",
        "colab": {
          "base_uri": "https://localhost:8080/",
          "height": 277
        },
        "outputId": "a4511bfb-0633-49b8-c0f3-c84eade2f35e"
      },
      "id": "KxJ9Gd4yDqgh",
      "execution_count": null,
      "outputs": [
        {
          "output_type": "display_data",
          "data": {
            "text/plain": [
              "<Figure size 1600x600 with 2 Axes>"
            ],
            "image/png": "[encoded data removed]"
          },
          "metadata": {}
        }
      ]
    },
    {
      "cell_type": "code",
      "source": [
        "plot_losses(MLPtrain_losses, MLPvalid_losses, MLPtrain_accs, MLPvalid_accs, \"MLP 50% dropout 0% corruption\")"
      ],
      "metadata": {
        "id": "XWZAuRdx-MEk",
        "colab": {
          "base_uri": "https://localhost:8080/",
          "height": 279
        },
        "outputId": "78fb329a-e3e5-47ef-bf84-066b10956a3f"
      },
      "id": "XWZAuRdx-MEk",
      "execution_count": null,
      "outputs": [
        {
          "output_type": "display_data",
          "data": {
            "text/plain": [
              "<Figure size 1600x600 with 2 Axes>"
            ],
            "image/png": "[encoded data removed]"
          },
          "metadata": {}
        }
      ]
    },
    {
      "cell_type": "code",
      "source": [
        "plot_losses(MLPtrain_lossesCor, MLPvalid_lossesCor, MLPtrain_accsCor, MLPvalid_accsCor, \"MLP 50% dropout 0% corruption\")"
      ],
      "metadata": {
        "id": "CSDfcHnX-bUi",
        "colab": {
          "base_uri": "https://localhost:8080/",
          "height": 347
        },
        "outputId": "b63d8509-1b2c-483d-a653-8a3a4ab30152"
      },
      "id": "CSDfcHnX-bUi",
      "execution_count": null,
      "outputs": [
        {
          "output_type": "display_data",
          "data": {
            "text/plain": [
              "<Figure size 1600x600 with 2 Axes>"
            ],
            "image/png": "[encoded data removed]"
          },
          "metadata": {}
        }
      ]
    },
    {
      "cell_type": "code",
      "source": [
        "plot_losses(train_lossesPTAN, valid_lossesPTAN, train_accsPTAN, valid_accsPTAN, \"PTAN (80% corrpution) AlexNet 50% dropout \")"
      ],
      "metadata": {
        "id": "c_6y9_yobvep"
      },
      "id": "c_6y9_yobvep",
      "execution_count": null,
      "outputs": []
    },
    {
      "cell_type": "code",
      "source": [
        "total_params = sum(p.numel() for p in alexnet.parameters())\n",
        "print(f\"Total number of parameters: {total_params}\")"
      ],
      "metadata": {
        "id": "AW1jxVUsjyDg"
      },
      "id": "AW1jxVUsjyDg",
      "execution_count": null,
      "outputs": []
    },
    {
      "cell_type": "code",
      "source": [
        "total_params = sum(p.numel() for p in mlp.parameters())\n",
        "print(f\"Total number of parameters: {total_params}\")"
      ],
      "metadata": {
        "id": "B4Lu8VRT-kgM"
      },
      "id": "B4Lu8VRT-kgM",
      "execution_count": null,
      "outputs": []
    },
    {
      "cell_type": "code",
      "source": [],
      "metadata": {
        "id": "hxV_rIrCHSzn"
      },
      "id": "hxV_rIrCHSzn",
      "execution_count": null,
      "outputs": []
    }
  ],
  "metadata": {
    "kernelspec": {
      "display_name": "Python 3",
      "name": "python3"
    },
    "language_info": {
      "codemirror_mode": {
        "name": "ipython",
        "version": 3
      },
      "file_extension": ".py",
      "mimetype": "text/x-python",
      "name": "python",
      "nbconvert_exporter": "python",
      "pygments_lexer": "ipython3",
      "version": "3.10.13"
    },
    "colab": {
      "provenance": [],
      "gpuType": "T4"
    },
    "accelerator": "GPU"
  },
  "nbformat": 4,
  "nbformat_minor": 5
}